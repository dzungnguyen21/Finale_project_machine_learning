{
 "cells": [
  {
   "cell_type": "markdown",
   "metadata": {},
   "source": [
    "## Mô tả bộ dữ liệu\n",
    "- **sex**: 1 cho nữ và 2 cho nam.\n",
    "- **age**: Tuổi của bệnh nhân.\n",
    "- **classification**: Kết quả xét nghiệm COVID. Giá trị từ 1-3 nghĩa là bệnh nhân được chẩn đoán mắc COVID ở các mức độ khác nhau. 4 hoặc cao hơn nghĩa là bệnh nhân không mắc COVID hoặc kết quả xét nghiệm không xác định.\n",
    "- **patient type**: Loại chăm sóc mà bệnh nhân nhận được tại đơn vị. 1 là về nhà và 2 là nhập viện.\n",
    "- **pneumonia**: Bệnh nhân có viêm các túi khí hay không.\n",
    "- **pregnancy**: Bệnh nhân có đang mang thai hay không.\n",
    "- **diabetes**: Bệnh nhân có bệnh tiểu đường hay không.\n",
    "- **copd**: Bệnh nhân có bị bệnh phổi tắc nghẽn mạn tính hay không.\n",
    "- **asthma**: Bệnh nhân có bị hen suyễn hay không.\n",
    "- **inmsupr**: Bệnh nhân có bị suy giảm miễn dịch hay không.\n",
    "- **hypertension**: Bệnh nhân có bị tăng huyết áp hay không.\n",
    "- **cardiovascular**: Bệnh nhân có bệnh tim hoặc các bệnh liên quan đến mạch máu hay không.\n",
    "- **renal chronic**: Bệnh nhân có bệnh thận mạn tính hay không.\n",
    "- **other disease**: Bệnh nhân có bệnh khác hay không.\n",
    "- **obesity**: Bệnh nhân có bị béo phì hay không.\n",
    "- **tobacco**: Bệnh nhân có sử dụng thuốc lá hay không.\n",
    "- **usmr**: Bệnh nhân có được điều trị tại các đơn vị y tế cấp cứu cấp 1, 2 hoặc 3 hay không.\n",
    "- **medical unit**: Loại cơ sở thuộc Hệ thống Y tế Quốc gia đã cung cấp chăm sóc.\n",
    "- **intubed**: Bệnh nhân có được kết nối với máy thở hay không.\n",
    "- **icu**: Bệnh nhân có được nhập vào Đơn vị Chăm sóc Đặc biệt hay không.\n",
    "- **date died**: Nếu bệnh nhân tử vong, ghi ngày tử vong; nếu không sẽ nhận giá trị 9999-99-99."
   ]
  },
  {
   "cell_type": "markdown",
   "metadata": {},
   "source": [
    "## Khám phá dữ liệu"
   ]
  },
  {
   "cell_type": "code",
<<<<<<< HEAD
   "execution_count": 2,
=======
   "execution_count": 53,
>>>>>>> fab1cb7cb6bca3f77398c53de3fd50ffe783edd9
   "metadata": {},
   "outputs": [],
   "source": [
    "import pandas as pd\n",
    "import numpy as np\n",
    "import seaborn as sns\n",
    "import matplotlib.pyplot as plt\n",
    "import plotly.express as px\n",
    "import warnings\n",
    "warnings.filterwarnings('ignore')"
   ]
  },
  {
   "cell_type": "code",
<<<<<<< HEAD
   "execution_count": 3,
=======
   "execution_count": 54,
>>>>>>> fab1cb7cb6bca3f77398c53de3fd50ffe783edd9
   "metadata": {},
   "outputs": [
    {
     "data": {
      "text/html": [
       "<div>\n",
       "<style scoped>\n",
       "    .dataframe tbody tr th:only-of-type {\n",
       "        vertical-align: middle;\n",
       "    }\n",
       "\n",
       "    .dataframe tbody tr th {\n",
       "        vertical-align: top;\n",
       "    }\n",
       "\n",
       "    .dataframe thead th {\n",
       "        text-align: right;\n",
       "    }\n",
       "</style>\n",
       "<table border=\"1\" class=\"dataframe\">\n",
       "  <thead>\n",
       "    <tr style=\"text-align: right;\">\n",
       "      <th></th>\n",
       "      <th>USMER</th>\n",
       "      <th>MEDICAL_UNIT</th>\n",
       "      <th>SEX</th>\n",
       "      <th>PATIENT_TYPE</th>\n",
       "      <th>DATE_DIED</th>\n",
       "      <th>INTUBED</th>\n",
       "      <th>PNEUMONIA</th>\n",
       "      <th>AGE</th>\n",
       "      <th>PREGNANT</th>\n",
       "      <th>DIABETES</th>\n",
       "      <th>...</th>\n",
       "      <th>ASTHMA</th>\n",
       "      <th>INMSUPR</th>\n",
       "      <th>HIPERTENSION</th>\n",
       "      <th>OTHER_DISEASE</th>\n",
       "      <th>CARDIOVASCULAR</th>\n",
       "      <th>OBESITY</th>\n",
       "      <th>RENAL_CHRONIC</th>\n",
       "      <th>TOBACCO</th>\n",
       "      <th>CLASIFFICATION_FINAL</th>\n",
       "      <th>ICU</th>\n",
       "    </tr>\n",
       "  </thead>\n",
       "  <tbody>\n",
       "    <tr>\n",
       "      <th>0</th>\n",
       "      <td>2</td>\n",
       "      <td>1</td>\n",
       "      <td>1</td>\n",
       "      <td>1</td>\n",
       "      <td>03/05/2020</td>\n",
       "      <td>97</td>\n",
       "      <td>1</td>\n",
       "      <td>65</td>\n",
       "      <td>2</td>\n",
       "      <td>2</td>\n",
       "      <td>...</td>\n",
       "      <td>2</td>\n",
       "      <td>2</td>\n",
       "      <td>1</td>\n",
       "      <td>2</td>\n",
       "      <td>2</td>\n",
       "      <td>2</td>\n",
       "      <td>2</td>\n",
       "      <td>2</td>\n",
       "      <td>3</td>\n",
       "      <td>97</td>\n",
       "    </tr>\n",
       "    <tr>\n",
       "      <th>1</th>\n",
       "      <td>2</td>\n",
       "      <td>1</td>\n",
       "      <td>2</td>\n",
       "      <td>1</td>\n",
       "      <td>03/06/2020</td>\n",
       "      <td>97</td>\n",
       "      <td>1</td>\n",
       "      <td>72</td>\n",
       "      <td>97</td>\n",
       "      <td>2</td>\n",
       "      <td>...</td>\n",
       "      <td>2</td>\n",
       "      <td>2</td>\n",
       "      <td>1</td>\n",
       "      <td>2</td>\n",
       "      <td>2</td>\n",
       "      <td>1</td>\n",
       "      <td>1</td>\n",
       "      <td>2</td>\n",
       "      <td>5</td>\n",
       "      <td>97</td>\n",
       "    </tr>\n",
       "    <tr>\n",
       "      <th>2</th>\n",
       "      <td>2</td>\n",
       "      <td>1</td>\n",
       "      <td>2</td>\n",
       "      <td>2</td>\n",
       "      <td>09/06/2020</td>\n",
       "      <td>1</td>\n",
       "      <td>2</td>\n",
       "      <td>55</td>\n",
       "      <td>97</td>\n",
       "      <td>1</td>\n",
       "      <td>...</td>\n",
       "      <td>2</td>\n",
       "      <td>2</td>\n",
       "      <td>2</td>\n",
       "      <td>2</td>\n",
       "      <td>2</td>\n",
       "      <td>2</td>\n",
       "      <td>2</td>\n",
       "      <td>2</td>\n",
       "      <td>3</td>\n",
       "      <td>2</td>\n",
       "    </tr>\n",
       "    <tr>\n",
       "      <th>3</th>\n",
       "      <td>2</td>\n",
       "      <td>1</td>\n",
       "      <td>1</td>\n",
       "      <td>1</td>\n",
       "      <td>12/06/2020</td>\n",
       "      <td>97</td>\n",
       "      <td>2</td>\n",
       "      <td>53</td>\n",
       "      <td>2</td>\n",
       "      <td>2</td>\n",
       "      <td>...</td>\n",
       "      <td>2</td>\n",
       "      <td>2</td>\n",
       "      <td>2</td>\n",
       "      <td>2</td>\n",
       "      <td>2</td>\n",
       "      <td>2</td>\n",
       "      <td>2</td>\n",
       "      <td>2</td>\n",
       "      <td>7</td>\n",
       "      <td>97</td>\n",
       "    </tr>\n",
       "    <tr>\n",
       "      <th>4</th>\n",
       "      <td>2</td>\n",
       "      <td>1</td>\n",
       "      <td>2</td>\n",
       "      <td>1</td>\n",
       "      <td>21/06/2020</td>\n",
       "      <td>97</td>\n",
       "      <td>2</td>\n",
       "      <td>68</td>\n",
       "      <td>97</td>\n",
       "      <td>1</td>\n",
       "      <td>...</td>\n",
       "      <td>2</td>\n",
       "      <td>2</td>\n",
       "      <td>1</td>\n",
       "      <td>2</td>\n",
       "      <td>2</td>\n",
       "      <td>2</td>\n",
       "      <td>2</td>\n",
       "      <td>2</td>\n",
       "      <td>3</td>\n",
       "      <td>97</td>\n",
       "    </tr>\n",
       "    <tr>\n",
       "      <th>...</th>\n",
       "      <td>...</td>\n",
       "      <td>...</td>\n",
       "      <td>...</td>\n",
       "      <td>...</td>\n",
       "      <td>...</td>\n",
       "      <td>...</td>\n",
       "      <td>...</td>\n",
       "      <td>...</td>\n",
       "      <td>...</td>\n",
       "      <td>...</td>\n",
       "      <td>...</td>\n",
       "      <td>...</td>\n",
       "      <td>...</td>\n",
       "      <td>...</td>\n",
       "      <td>...</td>\n",
       "      <td>...</td>\n",
       "      <td>...</td>\n",
       "      <td>...</td>\n",
       "      <td>...</td>\n",
       "      <td>...</td>\n",
       "      <td>...</td>\n",
       "    </tr>\n",
       "    <tr>\n",
       "      <th>1048570</th>\n",
       "      <td>2</td>\n",
       "      <td>13</td>\n",
       "      <td>2</td>\n",
       "      <td>1</td>\n",
       "      <td>9999-99-99</td>\n",
       "      <td>97</td>\n",
       "      <td>2</td>\n",
       "      <td>40</td>\n",
       "      <td>97</td>\n",
       "      <td>2</td>\n",
       "      <td>...</td>\n",
       "      <td>2</td>\n",
       "      <td>2</td>\n",
       "      <td>2</td>\n",
       "      <td>2</td>\n",
       "      <td>2</td>\n",
       "      <td>2</td>\n",
       "      <td>2</td>\n",
       "      <td>2</td>\n",
       "      <td>7</td>\n",
       "      <td>97</td>\n",
       "    </tr>\n",
       "    <tr>\n",
       "      <th>1048571</th>\n",
       "      <td>1</td>\n",
       "      <td>13</td>\n",
       "      <td>2</td>\n",
       "      <td>2</td>\n",
       "      <td>9999-99-99</td>\n",
       "      <td>2</td>\n",
       "      <td>2</td>\n",
       "      <td>51</td>\n",
       "      <td>97</td>\n",
       "      <td>2</td>\n",
       "      <td>...</td>\n",
       "      <td>2</td>\n",
       "      <td>2</td>\n",
       "      <td>1</td>\n",
       "      <td>2</td>\n",
       "      <td>2</td>\n",
       "      <td>2</td>\n",
       "      <td>2</td>\n",
       "      <td>2</td>\n",
       "      <td>7</td>\n",
       "      <td>2</td>\n",
       "    </tr>\n",
       "    <tr>\n",
       "      <th>1048572</th>\n",
       "      <td>2</td>\n",
       "      <td>13</td>\n",
       "      <td>2</td>\n",
       "      <td>1</td>\n",
       "      <td>9999-99-99</td>\n",
       "      <td>97</td>\n",
       "      <td>2</td>\n",
       "      <td>55</td>\n",
       "      <td>97</td>\n",
       "      <td>2</td>\n",
       "      <td>...</td>\n",
       "      <td>2</td>\n",
       "      <td>2</td>\n",
       "      <td>2</td>\n",
       "      <td>2</td>\n",
       "      <td>2</td>\n",
       "      <td>2</td>\n",
       "      <td>2</td>\n",
       "      <td>2</td>\n",
       "      <td>7</td>\n",
       "      <td>97</td>\n",
       "    </tr>\n",
       "    <tr>\n",
       "      <th>1048573</th>\n",
       "      <td>2</td>\n",
       "      <td>13</td>\n",
       "      <td>2</td>\n",
       "      <td>1</td>\n",
       "      <td>9999-99-99</td>\n",
       "      <td>97</td>\n",
       "      <td>2</td>\n",
       "      <td>28</td>\n",
       "      <td>97</td>\n",
       "      <td>2</td>\n",
       "      <td>...</td>\n",
       "      <td>2</td>\n",
       "      <td>2</td>\n",
       "      <td>2</td>\n",
       "      <td>2</td>\n",
       "      <td>2</td>\n",
       "      <td>2</td>\n",
       "      <td>2</td>\n",
       "      <td>2</td>\n",
       "      <td>7</td>\n",
       "      <td>97</td>\n",
       "    </tr>\n",
       "    <tr>\n",
       "      <th>1048574</th>\n",
       "      <td>2</td>\n",
       "      <td>13</td>\n",
       "      <td>2</td>\n",
       "      <td>1</td>\n",
       "      <td>9999-99-99</td>\n",
       "      <td>97</td>\n",
       "      <td>2</td>\n",
       "      <td>52</td>\n",
       "      <td>97</td>\n",
       "      <td>2</td>\n",
       "      <td>...</td>\n",
       "      <td>2</td>\n",
       "      <td>2</td>\n",
       "      <td>2</td>\n",
       "      <td>2</td>\n",
       "      <td>2</td>\n",
       "      <td>2</td>\n",
       "      <td>2</td>\n",
       "      <td>2</td>\n",
       "      <td>7</td>\n",
       "      <td>97</td>\n",
       "    </tr>\n",
       "  </tbody>\n",
       "</table>\n",
       "<p>1048575 rows × 21 columns</p>\n",
       "</div>"
      ],
      "text/plain": [
       "         USMER  MEDICAL_UNIT  SEX  PATIENT_TYPE   DATE_DIED  INTUBED  \\\n",
       "0            2             1    1             1  03/05/2020       97   \n",
       "1            2             1    2             1  03/06/2020       97   \n",
       "2            2             1    2             2  09/06/2020        1   \n",
       "3            2             1    1             1  12/06/2020       97   \n",
       "4            2             1    2             1  21/06/2020       97   \n",
       "...        ...           ...  ...           ...         ...      ...   \n",
       "1048570      2            13    2             1  9999-99-99       97   \n",
       "1048571      1            13    2             2  9999-99-99        2   \n",
       "1048572      2            13    2             1  9999-99-99       97   \n",
       "1048573      2            13    2             1  9999-99-99       97   \n",
       "1048574      2            13    2             1  9999-99-99       97   \n",
       "\n",
       "         PNEUMONIA  AGE  PREGNANT  DIABETES  ...  ASTHMA  INMSUPR  \\\n",
       "0                1   65         2         2  ...       2        2   \n",
       "1                1   72        97         2  ...       2        2   \n",
       "2                2   55        97         1  ...       2        2   \n",
       "3                2   53         2         2  ...       2        2   \n",
       "4                2   68        97         1  ...       2        2   \n",
       "...            ...  ...       ...       ...  ...     ...      ...   \n",
       "1048570          2   40        97         2  ...       2        2   \n",
       "1048571          2   51        97         2  ...       2        2   \n",
       "1048572          2   55        97         2  ...       2        2   \n",
       "1048573          2   28        97         2  ...       2        2   \n",
       "1048574          2   52        97         2  ...       2        2   \n",
       "\n",
       "         HIPERTENSION  OTHER_DISEASE  CARDIOVASCULAR  OBESITY  RENAL_CHRONIC  \\\n",
       "0                   1              2               2        2              2   \n",
       "1                   1              2               2        1              1   \n",
       "2                   2              2               2        2              2   \n",
       "3                   2              2               2        2              2   \n",
       "4                   1              2               2        2              2   \n",
       "...               ...            ...             ...      ...            ...   \n",
       "1048570             2              2               2        2              2   \n",
       "1048571             1              2               2        2              2   \n",
       "1048572             2              2               2        2              2   \n",
       "1048573             2              2               2        2              2   \n",
       "1048574             2              2               2        2              2   \n",
       "\n",
       "         TOBACCO  CLASIFFICATION_FINAL  ICU  \n",
       "0              2                     3   97  \n",
       "1              2                     5   97  \n",
       "2              2                     3    2  \n",
       "3              2                     7   97  \n",
       "4              2                     3   97  \n",
       "...          ...                   ...  ...  \n",
       "1048570        2                     7   97  \n",
       "1048571        2                     7    2  \n",
       "1048572        2                     7   97  \n",
       "1048573        2                     7   97  \n",
       "1048574        2                     7   97  \n",
       "\n",
       "[1048575 rows x 21 columns]"
      ]
     },
<<<<<<< HEAD
     "execution_count": 3,
=======
     "execution_count": 54,
>>>>>>> fab1cb7cb6bca3f77398c53de3fd50ffe783edd9
     "metadata": {},
     "output_type": "execute_result"
    }
   ],
   "source": [
    "data = pd.read_csv('Covid Data.csv')\n",
    "data"
   ]
  },
  {
   "cell_type": "code",
<<<<<<< HEAD
   "execution_count": 4,
=======
   "execution_count": 55,
>>>>>>> fab1cb7cb6bca3f77398c53de3fd50ffe783edd9
   "metadata": {},
   "outputs": [
    {
     "name": "stdout",
     "output_type": "stream",
     "text": [
      "<class 'pandas.core.frame.DataFrame'>\n",
      "RangeIndex: 1048575 entries, 0 to 1048574\n",
      "Data columns (total 21 columns):\n",
      " #   Column                Non-Null Count    Dtype \n",
      "---  ------                --------------    ----- \n",
      " 0   USMER                 1048575 non-null  int64 \n",
      " 1   MEDICAL_UNIT          1048575 non-null  int64 \n",
      " 2   SEX                   1048575 non-null  int64 \n",
      " 3   PATIENT_TYPE          1048575 non-null  int64 \n",
      " 4   DATE_DIED             1048575 non-null  object\n",
      " 5   INTUBED               1048575 non-null  int64 \n",
      " 6   PNEUMONIA             1048575 non-null  int64 \n",
      " 7   AGE                   1048575 non-null  int64 \n",
      " 8   PREGNANT              1048575 non-null  int64 \n",
      " 9   DIABETES              1048575 non-null  int64 \n",
      " 10  COPD                  1048575 non-null  int64 \n",
      " 11  ASTHMA                1048575 non-null  int64 \n",
      " 12  INMSUPR               1048575 non-null  int64 \n",
      " 13  HIPERTENSION          1048575 non-null  int64 \n",
      " 14  OTHER_DISEASE         1048575 non-null  int64 \n",
      " 15  CARDIOVASCULAR        1048575 non-null  int64 \n",
      " 16  OBESITY               1048575 non-null  int64 \n",
      " 17  RENAL_CHRONIC         1048575 non-null  int64 \n",
      " 18  TOBACCO               1048575 non-null  int64 \n",
      " 19  CLASIFFICATION_FINAL  1048575 non-null  int64 \n",
      " 20  ICU                   1048575 non-null  int64 \n",
      "dtypes: int64(20), object(1)\n",
      "memory usage: 168.0+ MB\n"
     ]
    }
   ],
   "source": [
    "data.info()"
   ]
  },
  {
   "cell_type": "markdown",
   "metadata": {},
   "source": [
    "## Tiền xử lý dữ liệu"
   ]
  },
  {
   "cell_type": "code",
<<<<<<< HEAD
   "execution_count": 5,
=======
   "execution_count": 56,
>>>>>>> fab1cb7cb6bca3f77398c53de3fd50ffe783edd9
   "metadata": {},
   "outputs": [
    {
     "data": {
      "text/html": [
       "<div>\n",
       "<style scoped>\n",
       "    .dataframe tbody tr th:only-of-type {\n",
       "        vertical-align: middle;\n",
       "    }\n",
       "\n",
       "    .dataframe tbody tr th {\n",
       "        vertical-align: top;\n",
       "    }\n",
       "\n",
       "    .dataframe thead th {\n",
       "        text-align: right;\n",
       "    }\n",
       "</style>\n",
       "<table border=\"1\" class=\"dataframe\">\n",
       "  <thead>\n",
       "    <tr style=\"text-align: right;\">\n",
       "      <th></th>\n",
       "      <th>USMER</th>\n",
       "      <th>MEDICAL_UNIT</th>\n",
       "      <th>SEX</th>\n",
       "      <th>PATIENT_TYPE</th>\n",
       "      <th>DATE_DIED</th>\n",
       "      <th>INTUBED</th>\n",
       "      <th>PNEUMONIA</th>\n",
       "      <th>AGE</th>\n",
       "      <th>PREGNANT</th>\n",
       "      <th>DIABETES</th>\n",
       "      <th>...</th>\n",
       "      <th>ASTHMA</th>\n",
       "      <th>INMSUPR</th>\n",
       "      <th>HIPERTENSION</th>\n",
       "      <th>OTHER_DISEASE</th>\n",
       "      <th>CARDIOVASCULAR</th>\n",
       "      <th>OBESITY</th>\n",
       "      <th>RENAL_CHRONIC</th>\n",
       "      <th>TOBACCO</th>\n",
       "      <th>CLASIFFICATION_FINAL</th>\n",
       "      <th>ICU</th>\n",
       "    </tr>\n",
       "  </thead>\n",
       "  <tbody>\n",
       "    <tr>\n",
       "      <th>0</th>\n",
       "      <td>2</td>\n",
       "      <td>1</td>\n",
       "      <td>1</td>\n",
       "      <td>1</td>\n",
       "      <td>03/05/2020</td>\n",
       "      <td>97</td>\n",
       "      <td>1</td>\n",
       "      <td>65</td>\n",
       "      <td>2</td>\n",
       "      <td>2</td>\n",
       "      <td>...</td>\n",
       "      <td>2</td>\n",
       "      <td>2</td>\n",
       "      <td>1</td>\n",
       "      <td>2</td>\n",
       "      <td>2</td>\n",
       "      <td>2</td>\n",
       "      <td>2</td>\n",
       "      <td>2</td>\n",
       "      <td>3</td>\n",
       "      <td>97</td>\n",
       "    </tr>\n",
       "    <tr>\n",
       "      <th>1</th>\n",
       "      <td>2</td>\n",
       "      <td>1</td>\n",
       "      <td>2</td>\n",
       "      <td>1</td>\n",
       "      <td>03/06/2020</td>\n",
       "      <td>97</td>\n",
       "      <td>1</td>\n",
       "      <td>72</td>\n",
       "      <td>97</td>\n",
       "      <td>2</td>\n",
       "      <td>...</td>\n",
       "      <td>2</td>\n",
       "      <td>2</td>\n",
       "      <td>1</td>\n",
       "      <td>2</td>\n",
       "      <td>2</td>\n",
       "      <td>1</td>\n",
       "      <td>1</td>\n",
       "      <td>2</td>\n",
       "      <td>5</td>\n",
       "      <td>97</td>\n",
       "    </tr>\n",
       "    <tr>\n",
       "      <th>2</th>\n",
       "      <td>2</td>\n",
       "      <td>1</td>\n",
       "      <td>2</td>\n",
       "      <td>2</td>\n",
       "      <td>09/06/2020</td>\n",
       "      <td>1</td>\n",
       "      <td>2</td>\n",
       "      <td>55</td>\n",
       "      <td>97</td>\n",
       "      <td>1</td>\n",
       "      <td>...</td>\n",
       "      <td>2</td>\n",
       "      <td>2</td>\n",
       "      <td>2</td>\n",
       "      <td>2</td>\n",
       "      <td>2</td>\n",
       "      <td>2</td>\n",
       "      <td>2</td>\n",
       "      <td>2</td>\n",
       "      <td>3</td>\n",
       "      <td>2</td>\n",
       "    </tr>\n",
       "    <tr>\n",
       "      <th>3</th>\n",
       "      <td>2</td>\n",
       "      <td>1</td>\n",
       "      <td>1</td>\n",
       "      <td>1</td>\n",
       "      <td>12/06/2020</td>\n",
       "      <td>97</td>\n",
       "      <td>2</td>\n",
       "      <td>53</td>\n",
       "      <td>2</td>\n",
       "      <td>2</td>\n",
       "      <td>...</td>\n",
       "      <td>2</td>\n",
       "      <td>2</td>\n",
       "      <td>2</td>\n",
       "      <td>2</td>\n",
       "      <td>2</td>\n",
       "      <td>2</td>\n",
       "      <td>2</td>\n",
       "      <td>2</td>\n",
       "      <td>7</td>\n",
       "      <td>97</td>\n",
       "    </tr>\n",
       "    <tr>\n",
       "      <th>4</th>\n",
       "      <td>2</td>\n",
       "      <td>1</td>\n",
       "      <td>2</td>\n",
       "      <td>1</td>\n",
       "      <td>21/06/2020</td>\n",
       "      <td>97</td>\n",
       "      <td>2</td>\n",
       "      <td>68</td>\n",
       "      <td>97</td>\n",
       "      <td>1</td>\n",
       "      <td>...</td>\n",
       "      <td>2</td>\n",
       "      <td>2</td>\n",
       "      <td>1</td>\n",
       "      <td>2</td>\n",
       "      <td>2</td>\n",
       "      <td>2</td>\n",
       "      <td>2</td>\n",
       "      <td>2</td>\n",
       "      <td>3</td>\n",
       "      <td>97</td>\n",
       "    </tr>\n",
       "    <tr>\n",
       "      <th>...</th>\n",
       "      <td>...</td>\n",
       "      <td>...</td>\n",
       "      <td>...</td>\n",
       "      <td>...</td>\n",
       "      <td>...</td>\n",
       "      <td>...</td>\n",
       "      <td>...</td>\n",
       "      <td>...</td>\n",
       "      <td>...</td>\n",
       "      <td>...</td>\n",
       "      <td>...</td>\n",
       "      <td>...</td>\n",
       "      <td>...</td>\n",
       "      <td>...</td>\n",
       "      <td>...</td>\n",
       "      <td>...</td>\n",
       "      <td>...</td>\n",
       "      <td>...</td>\n",
       "      <td>...</td>\n",
       "      <td>...</td>\n",
       "      <td>...</td>\n",
       "    </tr>\n",
       "    <tr>\n",
       "      <th>1048570</th>\n",
       "      <td>2</td>\n",
       "      <td>13</td>\n",
       "      <td>2</td>\n",
       "      <td>1</td>\n",
       "      <td>9999-99-99</td>\n",
       "      <td>97</td>\n",
       "      <td>2</td>\n",
       "      <td>40</td>\n",
       "      <td>97</td>\n",
       "      <td>2</td>\n",
       "      <td>...</td>\n",
       "      <td>2</td>\n",
       "      <td>2</td>\n",
       "      <td>2</td>\n",
       "      <td>2</td>\n",
       "      <td>2</td>\n",
       "      <td>2</td>\n",
       "      <td>2</td>\n",
       "      <td>2</td>\n",
       "      <td>7</td>\n",
       "      <td>97</td>\n",
       "    </tr>\n",
       "    <tr>\n",
       "      <th>1048571</th>\n",
       "      <td>1</td>\n",
       "      <td>13</td>\n",
       "      <td>2</td>\n",
       "      <td>2</td>\n",
       "      <td>9999-99-99</td>\n",
       "      <td>2</td>\n",
       "      <td>2</td>\n",
       "      <td>51</td>\n",
       "      <td>97</td>\n",
       "      <td>2</td>\n",
       "      <td>...</td>\n",
       "      <td>2</td>\n",
       "      <td>2</td>\n",
       "      <td>1</td>\n",
       "      <td>2</td>\n",
       "      <td>2</td>\n",
       "      <td>2</td>\n",
       "      <td>2</td>\n",
       "      <td>2</td>\n",
       "      <td>7</td>\n",
       "      <td>2</td>\n",
       "    </tr>\n",
       "    <tr>\n",
       "      <th>1048572</th>\n",
       "      <td>2</td>\n",
       "      <td>13</td>\n",
       "      <td>2</td>\n",
       "      <td>1</td>\n",
       "      <td>9999-99-99</td>\n",
       "      <td>97</td>\n",
       "      <td>2</td>\n",
       "      <td>55</td>\n",
       "      <td>97</td>\n",
       "      <td>2</td>\n",
       "      <td>...</td>\n",
       "      <td>2</td>\n",
       "      <td>2</td>\n",
       "      <td>2</td>\n",
       "      <td>2</td>\n",
       "      <td>2</td>\n",
       "      <td>2</td>\n",
       "      <td>2</td>\n",
       "      <td>2</td>\n",
       "      <td>7</td>\n",
       "      <td>97</td>\n",
       "    </tr>\n",
       "    <tr>\n",
       "      <th>1048573</th>\n",
       "      <td>2</td>\n",
       "      <td>13</td>\n",
       "      <td>2</td>\n",
       "      <td>1</td>\n",
       "      <td>9999-99-99</td>\n",
       "      <td>97</td>\n",
       "      <td>2</td>\n",
       "      <td>28</td>\n",
       "      <td>97</td>\n",
       "      <td>2</td>\n",
       "      <td>...</td>\n",
       "      <td>2</td>\n",
       "      <td>2</td>\n",
       "      <td>2</td>\n",
       "      <td>2</td>\n",
       "      <td>2</td>\n",
       "      <td>2</td>\n",
       "      <td>2</td>\n",
       "      <td>2</td>\n",
       "      <td>7</td>\n",
       "      <td>97</td>\n",
       "    </tr>\n",
       "    <tr>\n",
       "      <th>1048574</th>\n",
       "      <td>2</td>\n",
       "      <td>13</td>\n",
       "      <td>2</td>\n",
       "      <td>1</td>\n",
       "      <td>9999-99-99</td>\n",
       "      <td>97</td>\n",
       "      <td>2</td>\n",
       "      <td>52</td>\n",
       "      <td>97</td>\n",
       "      <td>2</td>\n",
       "      <td>...</td>\n",
       "      <td>2</td>\n",
       "      <td>2</td>\n",
       "      <td>2</td>\n",
       "      <td>2</td>\n",
       "      <td>2</td>\n",
       "      <td>2</td>\n",
       "      <td>2</td>\n",
       "      <td>2</td>\n",
       "      <td>7</td>\n",
       "      <td>97</td>\n",
       "    </tr>\n",
       "  </tbody>\n",
       "</table>\n",
       "<p>1048575 rows × 21 columns</p>\n",
       "</div>"
      ],
      "text/plain": [
       "         USMER  MEDICAL_UNIT  SEX  PATIENT_TYPE   DATE_DIED  INTUBED  \\\n",
       "0            2             1    1             1  03/05/2020       97   \n",
       "1            2             1    2             1  03/06/2020       97   \n",
       "2            2             1    2             2  09/06/2020        1   \n",
       "3            2             1    1             1  12/06/2020       97   \n",
       "4            2             1    2             1  21/06/2020       97   \n",
       "...        ...           ...  ...           ...         ...      ...   \n",
       "1048570      2            13    2             1  9999-99-99       97   \n",
       "1048571      1            13    2             2  9999-99-99        2   \n",
       "1048572      2            13    2             1  9999-99-99       97   \n",
       "1048573      2            13    2             1  9999-99-99       97   \n",
       "1048574      2            13    2             1  9999-99-99       97   \n",
       "\n",
       "         PNEUMONIA  AGE  PREGNANT  DIABETES  ...  ASTHMA  INMSUPR  \\\n",
       "0                1   65         2         2  ...       2        2   \n",
       "1                1   72        97         2  ...       2        2   \n",
       "2                2   55        97         1  ...       2        2   \n",
       "3                2   53         2         2  ...       2        2   \n",
       "4                2   68        97         1  ...       2        2   \n",
       "...            ...  ...       ...       ...  ...     ...      ...   \n",
       "1048570          2   40        97         2  ...       2        2   \n",
       "1048571          2   51        97         2  ...       2        2   \n",
       "1048572          2   55        97         2  ...       2        2   \n",
       "1048573          2   28        97         2  ...       2        2   \n",
       "1048574          2   52        97         2  ...       2        2   \n",
       "\n",
       "         HIPERTENSION  OTHER_DISEASE  CARDIOVASCULAR  OBESITY  RENAL_CHRONIC  \\\n",
       "0                   1              2               2        2              2   \n",
       "1                   1              2               2        1              1   \n",
       "2                   2              2               2        2              2   \n",
       "3                   2              2               2        2              2   \n",
       "4                   1              2               2        2              2   \n",
       "...               ...            ...             ...      ...            ...   \n",
       "1048570             2              2               2        2              2   \n",
       "1048571             1              2               2        2              2   \n",
       "1048572             2              2               2        2              2   \n",
       "1048573             2              2               2        2              2   \n",
       "1048574             2              2               2        2              2   \n",
       "\n",
       "         TOBACCO  CLASIFFICATION_FINAL  ICU  \n",
       "0              2                     3   97  \n",
       "1              2                     5   97  \n",
       "2              2                     3    2  \n",
       "3              2                     7   97  \n",
       "4              2                     3   97  \n",
       "...          ...                   ...  ...  \n",
       "1048570        2                     7   97  \n",
       "1048571        2                     7    2  \n",
       "1048572        2                     7   97  \n",
       "1048573        2                     7   97  \n",
       "1048574        2                     7   97  \n",
       "\n",
       "[1048575 rows x 21 columns]"
      ]
     },
<<<<<<< HEAD
     "execution_count": 5,
=======
     "execution_count": 56,
>>>>>>> fab1cb7cb6bca3f77398c53de3fd50ffe783edd9
     "metadata": {},
     "output_type": "execute_result"
    }
   ],
   "source": [
    "data = data.dropna()\n",
    "data"
   ]
  },
  {
   "cell_type": "code",
<<<<<<< HEAD
   "execution_count": 6,
=======
   "execution_count": 57,
>>>>>>> fab1cb7cb6bca3f77398c53de3fd50ffe783edd9
   "metadata": {},
   "outputs": [
    {
     "data": {
      "text/plain": [
       "USMER                   0\n",
       "MEDICAL_UNIT            0\n",
       "SEX                     0\n",
       "PATIENT_TYPE            0\n",
       "DATE_DIED               0\n",
       "INTUBED                 0\n",
       "PNEUMONIA               0\n",
       "AGE                     0\n",
       "PREGNANT                0\n",
       "DIABETES                0\n",
       "COPD                    0\n",
       "ASTHMA                  0\n",
       "INMSUPR                 0\n",
       "HIPERTENSION            0\n",
       "OTHER_DISEASE           0\n",
       "CARDIOVASCULAR          0\n",
       "OBESITY                 0\n",
       "RENAL_CHRONIC           0\n",
       "TOBACCO                 0\n",
       "CLASIFFICATION_FINAL    0\n",
       "ICU                     0\n",
       "dtype: int64"
      ]
     },
<<<<<<< HEAD
     "execution_count": 6,
=======
     "execution_count": 57,
>>>>>>> fab1cb7cb6bca3f77398c53de3fd50ffe783edd9
     "metadata": {},
     "output_type": "execute_result"
    }
   ],
   "source": [
    "data.isnull().sum()"
   ]
  },
  {
   "cell_type": "code",
<<<<<<< HEAD
   "execution_count": 7,
=======
   "execution_count": 58,
>>>>>>> fab1cb7cb6bca3f77398c53de3fd50ffe783edd9
   "metadata": {},
   "outputs": [],
   "source": [
    "df = data.copy()"
   ]
  },
  {
   "cell_type": "code",
<<<<<<< HEAD
   "execution_count": 8,
=======
   "execution_count": 59,
>>>>>>> fab1cb7cb6bca3f77398c53de3fd50ffe783edd9
   "metadata": {},
   "outputs": [
    {
     "data": {
      "text/plain": [
       "DATE_DIED\n",
       "9999-99-99    971633\n",
       "06/07/2020      1000\n",
       "07/07/2020       996\n",
       "13/07/2020       990\n",
       "16/06/2020       979\n",
       "               ...  \n",
       "24/11/2020         1\n",
       "17/12/2020         1\n",
       "08/12/2020         1\n",
       "16/03/2021         1\n",
       "22/04/2021         1\n",
       "Name: count, Length: 401, dtype: int64"
      ]
     },
<<<<<<< HEAD
     "execution_count": 8,
=======
     "execution_count": 59,
>>>>>>> fab1cb7cb6bca3f77398c53de3fd50ffe783edd9
     "metadata": {},
     "output_type": "execute_result"
    }
   ],
   "source": [
    "df['DATE_DIED'].value_counts()\n"
   ]
  },
  {
   "cell_type": "code",
<<<<<<< HEAD
   "execution_count": 9,
=======
   "execution_count": 60,
>>>>>>> fab1cb7cb6bca3f77398c53de3fd50ffe783edd9
   "metadata": {},
   "outputs": [
    {
     "data": {
      "text/plain": [
       "DATE_DIED\n",
       "0    971633\n",
       "1     76942\n",
       "Name: count, dtype: int64"
      ]
     },
<<<<<<< HEAD
     "execution_count": 9,
=======
     "execution_count": 60,
>>>>>>> fab1cb7cb6bca3f77398c53de3fd50ffe783edd9
     "metadata": {},
     "output_type": "execute_result"
    }
   ],
   "source": [
    "df.DATE_DIED[df['DATE_DIED'] != '9999-99-99'] = 1\n",
    "df.DATE_DIED[df['DATE_DIED'] == '9999-99-99'] = 0\n",
    "df.DATE_DIED.value_counts()"
   ]
  },
  {
   "cell_type": "code",
<<<<<<< HEAD
   "execution_count": 10,
=======
   "execution_count": 61,
>>>>>>> fab1cb7cb6bca3f77398c53de3fd50ffe783edd9
   "metadata": {},
   "outputs": [
    {
     "data": {
      "text/plain": [
       "<Axes: title={'center': 'Count (DATE_DIED)'}, xlabel='DATE_DIED'>"
      ]
     },
<<<<<<< HEAD
     "execution_count": 10,
=======
     "execution_count": 61,
>>>>>>> fab1cb7cb6bca3f77398c53de3fd50ffe783edd9
     "metadata": {},
     "output_type": "execute_result"
    },
    {
     "data": {
      "image/png": "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",
      "text/plain": [
       "<Figure size 640x480 with 1 Axes>"
      ]
     },
     "metadata": {},
     "output_type": "display_data"
    }
   ],
   "source": [
    "df['DATE_DIED'].value_counts().plot(kind='bar', title='Count (DATE_DIED)', color=['b', 'r'])"
   ]
  },
  {
   "cell_type": "markdown",
   "metadata": {},
   "source": [
    "Thay feature 'DATE_DIED' bằng feature 'DEATH'"
   ]
  },
  {
   "cell_type": "code",
<<<<<<< HEAD
   "execution_count": 11,
=======
   "execution_count": 62,
>>>>>>> fab1cb7cb6bca3f77398c53de3fd50ffe783edd9
   "metadata": {},
   "outputs": [],
   "source": [
    "df['DEATH'] = df.DATE_DIED"
   ]
  },
  {
   "cell_type": "code",
<<<<<<< HEAD
   "execution_count": 12,
=======
   "execution_count": 63,
>>>>>>> fab1cb7cb6bca3f77398c53de3fd50ffe783edd9
   "metadata": {},
   "outputs": [],
   "source": [
    "df.drop(columns=['DATE_DIED'], inplace=True)"
   ]
  },
  {
   "cell_type": "code",
<<<<<<< HEAD
   "execution_count": 13,
=======
   "execution_count": 64,
>>>>>>> fab1cb7cb6bca3f77398c53de3fd50ffe783edd9
   "metadata": {},
   "outputs": [
    {
     "data": {
      "text/plain": [
       "Index(['USMER', 'MEDICAL_UNIT', 'SEX', 'PATIENT_TYPE', 'INTUBED', 'PNEUMONIA',\n",
       "       'AGE', 'PREGNANT', 'DIABETES', 'COPD', 'ASTHMA', 'INMSUPR',\n",
       "       'HIPERTENSION', 'OTHER_DISEASE', 'CARDIOVASCULAR', 'OBESITY',\n",
       "       'RENAL_CHRONIC', 'TOBACCO', 'CLASIFFICATION_FINAL', 'ICU', 'DEATH'],\n",
       "      dtype='object')"
      ]
     },
<<<<<<< HEAD
     "execution_count": 13,
=======
     "execution_count": 64,
>>>>>>> fab1cb7cb6bca3f77398c53de3fd50ffe783edd9
     "metadata": {},
     "output_type": "execute_result"
    }
   ],
   "source": [
    "df.columns"
   ]
  },
  {
   "cell_type": "code",
<<<<<<< HEAD
   "execution_count": 14,
=======
   "execution_count": 65,
>>>>>>> fab1cb7cb6bca3f77398c53de3fd50ffe783edd9
   "metadata": {},
   "outputs": [
    {
     "data": {
      "text/plain": [
       "SEX\n",
       "1    525064\n",
       "2    523511\n",
       "Name: count, dtype: int64"
      ]
     },
<<<<<<< HEAD
     "execution_count": 14,
=======
     "execution_count": 65,
>>>>>>> fab1cb7cb6bca3f77398c53de3fd50ffe783edd9
     "metadata": {},
     "output_type": "execute_result"
    }
   ],
   "source": [
    "df['SEX'].value_counts()"
   ]
  },
  {
   "cell_type": "code",
<<<<<<< HEAD
   "execution_count": 15,
=======
   "execution_count": 66,
>>>>>>> fab1cb7cb6bca3f77398c53de3fd50ffe783edd9
   "metadata": {},
   "outputs": [],
   "source": [
    "df['SEX'].replace({1:'Female', 2:'Male'}, inplace=True)"
   ]
  },
  {
   "cell_type": "code",
<<<<<<< HEAD
   "execution_count": 16,
=======
   "execution_count": 67,
>>>>>>> fab1cb7cb6bca3f77398c53de3fd50ffe783edd9
   "metadata": {},
   "outputs": [
    {
     "data": {
      "text/plain": [
       "SEX     PREGNANT\n",
       "Female  1             8131\n",
       "        2           513179\n",
       "        98            3754\n",
       "Male    97          523511\n",
       "Name: count, dtype: int64"
      ]
     },
<<<<<<< HEAD
     "execution_count": 16,
=======
     "execution_count": 67,
>>>>>>> fab1cb7cb6bca3f77398c53de3fd50ffe783edd9
     "metadata": {},
     "output_type": "execute_result"
    }
   ],
   "source": [
    "df.groupby(['SEX', 'PREGNANT'])['PREGNANT'].value_counts()  "
   ]
  },
  {
   "cell_type": "code",
<<<<<<< HEAD
   "execution_count": 17,
=======
   "execution_count": 68,
>>>>>>> fab1cb7cb6bca3f77398c53de3fd50ffe783edd9
   "metadata": {},
   "outputs": [],
   "source": [
    "df.PREGNANT.replace({97:0, 98:np.nan}, inplace = True)"
   ]
  },
  {
   "cell_type": "code",
<<<<<<< HEAD
   "execution_count": 18,
=======
   "execution_count": 69,
>>>>>>> fab1cb7cb6bca3f77398c53de3fd50ffe783edd9
   "metadata": {},
   "outputs": [
    {
     "data": {
      "text/plain": [
       "SEX     PREGNANT\n",
       "Female  1.0           8131\n",
       "        2.0         513179\n",
       "Male    0.0         523511\n",
       "Name: count, dtype: int64"
      ]
     },
<<<<<<< HEAD
     "execution_count": 18,
=======
     "execution_count": 69,
>>>>>>> fab1cb7cb6bca3f77398c53de3fd50ffe783edd9
     "metadata": {},
     "output_type": "execute_result"
    }
   ],
   "source": [
    "df.groupby(['SEX', 'PREGNANT'])['PREGNANT'].value_counts()  "
   ]
  },
  {
   "cell_type": "code",
<<<<<<< HEAD
   "execution_count": 19,
=======
   "execution_count": 70,
>>>>>>> fab1cb7cb6bca3f77398c53de3fd50ffe783edd9
   "metadata": {},
   "outputs": [
    {
     "data": {
      "text/plain": [
       "3754"
      ]
     },
<<<<<<< HEAD
     "execution_count": 19,
=======
     "execution_count": 70,
>>>>>>> fab1cb7cb6bca3f77398c53de3fd50ffe783edd9
     "metadata": {},
     "output_type": "execute_result"
    }
   ],
   "source": [
    "df['PREGNANT'].isnull().sum()"
   ]
  },
  {
   "cell_type": "code",
<<<<<<< HEAD
   "execution_count": 20,
=======
   "execution_count": 71,
>>>>>>> fab1cb7cb6bca3f77398c53de3fd50ffe783edd9
   "metadata": {},
   "outputs": [
    {
     "data": {
      "text/plain": [
       "PATIENT_TYPE\n",
       "1    848544\n",
       "2    200031\n",
       "Name: count, dtype: int64"
      ]
     },
<<<<<<< HEAD
     "execution_count": 20,
=======
     "execution_count": 71,
>>>>>>> fab1cb7cb6bca3f77398c53de3fd50ffe783edd9
     "metadata": {},
     "output_type": "execute_result"
    }
   ],
   "source": [
    "df['PATIENT_TYPE'].value_counts()"
   ]
  },
  {
   "cell_type": "markdown",
   "metadata": {},
   "source": [
    "Thay đổi 2 về 0. 1 là có, 0 là không có "
   ]
  },
  {
   "cell_type": "code",
<<<<<<< HEAD
   "execution_count": 21,
=======
   "execution_count": 72,
>>>>>>> fab1cb7cb6bca3f77398c53de3fd50ffe783edd9
   "metadata": {},
   "outputs": [],
   "source": [
    "df['USMER'].replace(2.0, 0, inplace=True)\n",
    "df['SEX'].replace(2.0, 0, inplace=True)\n",
    "df['PATIENT_TYPE'].replace(2.0, 0, inplace=True)\n",
    "df['INTUBED'].replace(2.0, 0, inplace=True)\n",
    "df['PNEUMONIA'].replace(2.0, 0, inplace=True)\n",
    "df['PREGNANT'].replace(2.0, 0, inplace=True)\n",
    "df['DIABETES'].replace(2.0, 0, inplace=True)\n",
    "df['COPD'].replace(2.0, 0, inplace=True)\n",
    "df['ASTHMA'].replace(2.0, 0, inplace=True)\n",
    "df['INMSUPR'].replace(2.0, 0, inplace=True)\n",
    "df['HIPERTENSION'].replace(2.0, 0, inplace=True)\n",
    "df['OTHER_DISEASE'].replace(2.0, 0, inplace=True)\n",
    "df['CARDIOVASCULAR'].replace(2.0, 0, inplace=True)\n",
    "df['OBESITY'].replace(2.0, 0, inplace=True)\n",
    "df['RENAL_CHRONIC'].replace(2.0, 0, inplace=True)\n",
    "df['TOBACCO'].replace(2.0, 0, inplace=True)\n",
    "df['ICU'].replace(2.0, 0, inplace=True)"
   ]
  },
  {
   "cell_type": "markdown",
   "metadata": {},
   "source": [
    "Đổi giá trị của feature PATIENT_TYPE. 1 là hospitalized, 0 là not hospitalized"
   ]
  },
  {
   "cell_type": "code",
<<<<<<< HEAD
   "execution_count": 22,
=======
   "execution_count": 73,
>>>>>>> fab1cb7cb6bca3f77398c53de3fd50ffe783edd9
   "metadata": {},
   "outputs": [
    {
     "data": {
      "text/plain": [
       "PATIENT_TYPE\n",
       "1    848544\n",
       "0    200031\n",
       "Name: count, dtype: int64"
      ]
     },
<<<<<<< HEAD
     "execution_count": 22,
=======
     "execution_count": 73,
>>>>>>> fab1cb7cb6bca3f77398c53de3fd50ffe783edd9
     "metadata": {},
     "output_type": "execute_result"
    }
   ],
   "source": [
    "df['PATIENT_TYPE'].value_counts()"
   ]
  },
  {
   "cell_type": "code",
<<<<<<< HEAD
   "execution_count": 23,
=======
   "execution_count": 74,
>>>>>>> fab1cb7cb6bca3f77398c53de3fd50ffe783edd9
   "metadata": {},
   "outputs": [],
   "source": [
    "df.PATIENT_TYPE.replace({1:'hospitaliezed', 0:'not hospitalized'}, inplace=True)"
   ]
  },
  {
   "cell_type": "code",
<<<<<<< HEAD
   "execution_count": 24,
=======
   "execution_count": 75,
>>>>>>> fab1cb7cb6bca3f77398c53de3fd50ffe783edd9
   "metadata": {},
   "outputs": [],
   "source": [
    "df['CLASIFFICATION_FINAL'].replace([1,2,3,4,5,6,7],\n",
    "                                   ['patient was diagnosed with covid in different degrees.','patient was diagnosed with covid in different degrees.','patient was diagnosed with covid in different degrees.','the patient is not a carrier of covid or that the test is inconclusive.','the patient is not a carrier of covid or that the test is inconclusive.','the patient is not a carrier of covid or that the test is inconclusive.','the patient is not a carrier of covid or that the test is inconclusive.'],inplace=True)"
   ]
  },
  {
   "cell_type": "code",
<<<<<<< HEAD
   "execution_count": 25,
=======
   "execution_count": 76,
>>>>>>> fab1cb7cb6bca3f77398c53de3fd50ffe783edd9
   "metadata": {},
   "outputs": [
    {
     "data": {
      "text/plain": [
       "CLASIFFICATION_FINAL\n",
       "the patient is not a carrier of covid or that the test is inconclusive.    656596\n",
       "patient was diagnosed with covid in different degrees.                     391979\n",
       "Name: count, dtype: int64"
      ]
     },
<<<<<<< HEAD
     "execution_count": 25,
=======
     "execution_count": 76,
>>>>>>> fab1cb7cb6bca3f77398c53de3fd50ffe783edd9
     "metadata": {},
     "output_type": "execute_result"
    }
   ],
   "source": [
    "df['CLASIFFICATION_FINAL'].value_counts()"
   ]
  },
  {
   "cell_type": "code",
<<<<<<< HEAD
   "execution_count": 26,
=======
   "execution_count": 77,
>>>>>>> fab1cb7cb6bca3f77398c53de3fd50ffe783edd9
   "metadata": {},
   "outputs": [
    {
     "data": {
      "text/plain": [
       "PATIENT_TYPE\n",
       "hospitaliezed       848544\n",
       "not hospitalized    200031\n",
       "Name: count, dtype: int64"
      ]
     },
<<<<<<< HEAD
     "execution_count": 26,
=======
     "execution_count": 77,
>>>>>>> fab1cb7cb6bca3f77398c53de3fd50ffe783edd9
     "metadata": {},
     "output_type": "execute_result"
    }
   ],
   "source": [
    "df['PATIENT_TYPE'].value_counts()"
   ]
  },
  {
   "cell_type": "markdown",
   "metadata": {},
   "source": [
    "Các giá trị 97, 98, 99 chuyển thành null"
   ]
  },
  {
   "cell_type": "code",
<<<<<<< HEAD
   "execution_count": 27,
=======
   "execution_count": 78,
>>>>>>> fab1cb7cb6bca3f77398c53de3fd50ffe783edd9
   "metadata": {},
   "outputs": [
    {
     "data": {
      "text/plain": [
       "TOBACCO\n",
       "0     960979\n",
       "1      84376\n",
       "98      3220\n",
       "Name: count, dtype: int64"
      ]
     },
<<<<<<< HEAD
     "execution_count": 27,
=======
     "execution_count": 78,
>>>>>>> fab1cb7cb6bca3f77398c53de3fd50ffe783edd9
     "metadata": {},
     "output_type": "execute_result"
    }
   ],
   "source": [
    "df['TOBACCO'].value_counts()"
   ]
  },
  {
   "cell_type": "code",
<<<<<<< HEAD
   "execution_count": 28,
=======
   "execution_count": 79,
>>>>>>> fab1cb7cb6bca3f77398c53de3fd50ffe783edd9
   "metadata": {},
   "outputs": [],
   "source": [
    "df.replace([97,98,99], np.nan, inplace=True)"
   ]
  },
  {
   "cell_type": "markdown",
   "metadata": {},
   "source": [
    "Missing value"
   ]
  },
  {
   "cell_type": "code",
<<<<<<< HEAD
   "execution_count": 29,
=======
   "execution_count": 80,
>>>>>>> fab1cb7cb6bca3f77398c53de3fd50ffe783edd9
   "metadata": {},
   "outputs": [
    {
     "data": {
      "text/plain": [
       "USMER                        0\n",
       "MEDICAL_UNIT                 0\n",
       "SEX                          0\n",
       "PATIENT_TYPE                 0\n",
       "INTUBED                 855869\n",
       "PNEUMONIA                16003\n",
       "AGE                        345\n",
       "PREGNANT                  3754\n",
       "DIABETES                  3338\n",
       "COPD                      3003\n",
       "ASTHMA                    2979\n",
       "INMSUPR                   3404\n",
       "HIPERTENSION              3104\n",
       "OTHER_DISEASE             5045\n",
       "CARDIOVASCULAR            3076\n",
       "OBESITY                   3032\n",
       "RENAL_CHRONIC             3006\n",
       "TOBACCO                   3220\n",
       "CLASIFFICATION_FINAL         0\n",
       "ICU                     856032\n",
       "DEATH                        0\n",
       "dtype: int64"
      ]
     },
<<<<<<< HEAD
     "execution_count": 29,
=======
     "execution_count": 80,
>>>>>>> fab1cb7cb6bca3f77398c53de3fd50ffe783edd9
     "metadata": {},
     "output_type": "execute_result"
    }
   ],
   "source": [
    "df.isnull().sum()"
   ]
  },
  {
   "cell_type": "markdown",
   "metadata": {},
   "source": [
    "Loại bỏ những feature có số lượng giá trị null lớn"
   ]
  },
  {
   "cell_type": "code",
<<<<<<< HEAD
   "execution_count": 30,
=======
   "execution_count": 81,
>>>>>>> fab1cb7cb6bca3f77398c53de3fd50ffe783edd9
   "metadata": {},
   "outputs": [],
   "source": [
    "df.drop(columns=[\"INTUBED\", \"ICU\"], inplace=True)"
   ]
  },
  {
   "cell_type": "markdown",
   "metadata": {},
   "source": [
    "Tiếp tục loại bỏ những dữ liệu null"
   ]
  },
  {
   "cell_type": "code",
<<<<<<< HEAD
   "execution_count": 31,
=======
   "execution_count": 82,
>>>>>>> fab1cb7cb6bca3f77398c53de3fd50ffe783edd9
   "metadata": {},
   "outputs": [],
   "source": [
    "df.dropna(inplace=True)"
   ]
  },
  {
   "cell_type": "code",
<<<<<<< HEAD
   "execution_count": 32,
=======
   "execution_count": 83,
>>>>>>> fab1cb7cb6bca3f77398c53de3fd50ffe783edd9
   "metadata": {},
   "outputs": [
    {
     "data": {
      "text/plain": [
       "USMER                   0\n",
       "MEDICAL_UNIT            0\n",
       "SEX                     0\n",
       "PATIENT_TYPE            0\n",
       "PNEUMONIA               0\n",
       "AGE                     0\n",
       "PREGNANT                0\n",
       "DIABETES                0\n",
       "COPD                    0\n",
       "ASTHMA                  0\n",
       "INMSUPR                 0\n",
       "HIPERTENSION            0\n",
       "OTHER_DISEASE           0\n",
       "CARDIOVASCULAR          0\n",
       "OBESITY                 0\n",
       "RENAL_CHRONIC           0\n",
       "TOBACCO                 0\n",
       "CLASIFFICATION_FINAL    0\n",
       "DEATH                   0\n",
       "dtype: int64"
      ]
     },
<<<<<<< HEAD
     "execution_count": 32,
=======
     "execution_count": 83,
>>>>>>> fab1cb7cb6bca3f77398c53de3fd50ffe783edd9
     "metadata": {},
     "output_type": "execute_result"
    }
   ],
   "source": [
    "df.isnull().sum()"
   ]
  },
  {
   "cell_type": "markdown",
   "metadata": {},
   "source": [
    "## Encoding những dữ liệu dạng Object"
   ]
  },
  {
   "cell_type": "code",
<<<<<<< HEAD
   "execution_count": 33,
=======
   "execution_count": 84,
>>>>>>> fab1cb7cb6bca3f77398c53de3fd50ffe783edd9
   "metadata": {},
   "outputs": [
    {
     "data": {
      "text/html": [
       "<div>\n",
       "<style scoped>\n",
       "    .dataframe tbody tr th:only-of-type {\n",
       "        vertical-align: middle;\n",
       "    }\n",
       "\n",
       "    .dataframe tbody tr th {\n",
       "        vertical-align: top;\n",
       "    }\n",
       "\n",
       "    .dataframe thead th {\n",
       "        text-align: right;\n",
       "    }\n",
       "</style>\n",
       "<table border=\"1\" class=\"dataframe\">\n",
       "  <thead>\n",
       "    <tr style=\"text-align: right;\">\n",
       "      <th></th>\n",
       "      <th>SEX</th>\n",
       "      <th>PATIENT_TYPE</th>\n",
       "      <th>CLASIFFICATION_FINAL</th>\n",
       "    </tr>\n",
       "  </thead>\n",
       "  <tbody>\n",
       "    <tr>\n",
       "      <th>count</th>\n",
       "      <td>1021655</td>\n",
       "      <td>1021655</td>\n",
       "      <td>1021655</td>\n",
       "    </tr>\n",
       "    <tr>\n",
       "      <th>unique</th>\n",
       "      <td>2</td>\n",
       "      <td>2</td>\n",
       "      <td>2</td>\n",
       "    </tr>\n",
       "    <tr>\n",
       "      <th>top</th>\n",
       "      <td>Male</td>\n",
       "      <td>hospitaliezed</td>\n",
       "      <td>the patient is not a carrier of covid or that ...</td>\n",
       "    </tr>\n",
       "    <tr>\n",
       "      <th>freq</th>\n",
       "      <td>511795</td>\n",
       "      <td>830233</td>\n",
       "      <td>634185</td>\n",
       "    </tr>\n",
       "  </tbody>\n",
       "</table>\n",
       "</div>"
      ],
      "text/plain": [
       "            SEX   PATIENT_TYPE  \\\n",
       "count   1021655        1021655   \n",
       "unique        2              2   \n",
       "top        Male  hospitaliezed   \n",
       "freq     511795         830233   \n",
       "\n",
       "                                     CLASIFFICATION_FINAL  \n",
       "count                                             1021655  \n",
       "unique                                                  2  \n",
       "top     the patient is not a carrier of covid or that ...  \n",
       "freq                                               634185  "
      ]
     },
<<<<<<< HEAD
     "execution_count": 33,
=======
     "execution_count": 84,
>>>>>>> fab1cb7cb6bca3f77398c53de3fd50ffe783edd9
     "metadata": {},
     "output_type": "execute_result"
    }
   ],
   "source": [
    "df.describe(include=object)"
   ]
  },
  {
   "cell_type": "code",
<<<<<<< HEAD
   "execution_count": 34,
=======
   "execution_count": 85,
>>>>>>> fab1cb7cb6bca3f77398c53de3fd50ffe783edd9
   "metadata": {},
   "outputs": [],
   "source": [
    "from sklearn.preprocessing import LabelEncoder\n",
    "le = LabelEncoder()"
   ]
  },
  {
   "cell_type": "code",
<<<<<<< HEAD
   "execution_count": 35,
=======
   "execution_count": 86,
>>>>>>> fab1cb7cb6bca3f77398c53de3fd50ffe783edd9
   "metadata": {},
   "outputs": [],
   "source": [
    "cols = ['SEX', 'PATIENT_TYPE', 'CLASIFFICATION_FINAL']\n",
    "\n",
    "df[cols] = df[cols].apply(LabelEncoder().fit_transform)"
   ]
  },
  {
   "cell_type": "code",
<<<<<<< HEAD
   "execution_count": 36,
=======
   "execution_count": 87,
>>>>>>> fab1cb7cb6bca3f77398c53de3fd50ffe783edd9
   "metadata": {},
   "outputs": [
    {
     "name": "stdout",
     "output_type": "stream",
     "text": [
      "<class 'pandas.core.frame.DataFrame'>\n",
      "Index: 1021655 entries, 0 to 1048574\n",
      "Data columns (total 19 columns):\n",
      " #   Column                Non-Null Count    Dtype  \n",
      "---  ------                --------------    -----  \n",
      " 0   USMER                 1021655 non-null  int64  \n",
      " 1   MEDICAL_UNIT          1021655 non-null  int64  \n",
      " 2   SEX                   1021655 non-null  int32  \n",
      " 3   PATIENT_TYPE          1021655 non-null  int32  \n",
      " 4   PNEUMONIA             1021655 non-null  float64\n",
      " 5   AGE                   1021655 non-null  float64\n",
      " 6   PREGNANT              1021655 non-null  float64\n",
      " 7   DIABETES              1021655 non-null  float64\n",
      " 8   COPD                  1021655 non-null  float64\n",
      " 9   ASTHMA                1021655 non-null  float64\n",
      " 10  INMSUPR               1021655 non-null  float64\n",
      " 11  HIPERTENSION          1021655 non-null  float64\n",
      " 12  OTHER_DISEASE         1021655 non-null  float64\n",
      " 13  CARDIOVASCULAR        1021655 non-null  float64\n",
      " 14  OBESITY               1021655 non-null  float64\n",
      " 15  RENAL_CHRONIC         1021655 non-null  float64\n",
      " 16  TOBACCO               1021655 non-null  float64\n",
      " 17  CLASIFFICATION_FINAL  1021655 non-null  int32  \n",
      " 18  DEATH                 1021655 non-null  int64  \n",
      "dtypes: float64(13), int32(3), int64(3)\n",
      "memory usage: 144.2 MB\n"
     ]
    }
   ],
   "source": [
    "df.info()"
   ]
  },
  {
   "cell_type": "code",
<<<<<<< HEAD
   "execution_count": 37,
=======
   "execution_count": 88,
>>>>>>> fab1cb7cb6bca3f77398c53de3fd50ffe783edd9
   "metadata": {},
   "outputs": [
    {
     "data": {
      "text/html": [
       "<div>\n",
       "<style scoped>\n",
       "    .dataframe tbody tr th:only-of-type {\n",
       "        vertical-align: middle;\n",
       "    }\n",
       "\n",
       "    .dataframe tbody tr th {\n",
       "        vertical-align: top;\n",
       "    }\n",
       "\n",
       "    .dataframe thead th {\n",
       "        text-align: right;\n",
       "    }\n",
       "</style>\n",
       "<table border=\"1\" class=\"dataframe\">\n",
       "  <thead>\n",
       "    <tr style=\"text-align: right;\">\n",
       "      <th></th>\n",
       "      <th>USMER</th>\n",
       "      <th>MEDICAL_UNIT</th>\n",
       "      <th>SEX</th>\n",
       "      <th>PATIENT_TYPE</th>\n",
       "      <th>PNEUMONIA</th>\n",
       "      <th>AGE</th>\n",
       "      <th>PREGNANT</th>\n",
       "      <th>DIABETES</th>\n",
       "      <th>COPD</th>\n",
       "      <th>ASTHMA</th>\n",
       "      <th>INMSUPR</th>\n",
       "      <th>HIPERTENSION</th>\n",
       "      <th>OTHER_DISEASE</th>\n",
       "      <th>CARDIOVASCULAR</th>\n",
       "      <th>OBESITY</th>\n",
       "      <th>RENAL_CHRONIC</th>\n",
       "      <th>TOBACCO</th>\n",
       "      <th>CLASIFFICATION_FINAL</th>\n",
       "      <th>DEATH</th>\n",
       "    </tr>\n",
       "  </thead>\n",
       "  <tbody>\n",
       "    <tr>\n",
       "      <th>0</th>\n",
       "      <td>0</td>\n",
       "      <td>1</td>\n",
       "      <td>0</td>\n",
       "      <td>0</td>\n",
       "      <td>1.0</td>\n",
       "      <td>65.0</td>\n",
       "      <td>0.0</td>\n",
       "      <td>0.0</td>\n",
       "      <td>0.0</td>\n",
       "      <td>0.0</td>\n",
       "      <td>0.0</td>\n",
       "      <td>1.0</td>\n",
       "      <td>0.0</td>\n",
       "      <td>0.0</td>\n",
       "      <td>0.0</td>\n",
       "      <td>0.0</td>\n",
       "      <td>0.0</td>\n",
       "      <td>0</td>\n",
       "      <td>1</td>\n",
       "    </tr>\n",
       "    <tr>\n",
       "      <th>1</th>\n",
       "      <td>0</td>\n",
       "      <td>1</td>\n",
       "      <td>1</td>\n",
       "      <td>0</td>\n",
       "      <td>1.0</td>\n",
       "      <td>72.0</td>\n",
       "      <td>0.0</td>\n",
       "      <td>0.0</td>\n",
       "      <td>0.0</td>\n",
       "      <td>0.0</td>\n",
       "      <td>0.0</td>\n",
       "      <td>1.0</td>\n",
       "      <td>0.0</td>\n",
       "      <td>0.0</td>\n",
       "      <td>1.0</td>\n",
       "      <td>1.0</td>\n",
       "      <td>0.0</td>\n",
       "      <td>1</td>\n",
       "      <td>1</td>\n",
       "    </tr>\n",
       "    <tr>\n",
       "      <th>2</th>\n",
       "      <td>0</td>\n",
       "      <td>1</td>\n",
       "      <td>1</td>\n",
       "      <td>1</td>\n",
       "      <td>0.0</td>\n",
       "      <td>55.0</td>\n",
       "      <td>0.0</td>\n",
       "      <td>1.0</td>\n",
       "      <td>0.0</td>\n",
       "      <td>0.0</td>\n",
       "      <td>0.0</td>\n",
       "      <td>0.0</td>\n",
       "      <td>0.0</td>\n",
       "      <td>0.0</td>\n",
       "      <td>0.0</td>\n",
       "      <td>0.0</td>\n",
       "      <td>0.0</td>\n",
       "      <td>0</td>\n",
       "      <td>1</td>\n",
       "    </tr>\n",
       "    <tr>\n",
       "      <th>3</th>\n",
       "      <td>0</td>\n",
       "      <td>1</td>\n",
       "      <td>0</td>\n",
       "      <td>0</td>\n",
       "      <td>0.0</td>\n",
       "      <td>53.0</td>\n",
       "      <td>0.0</td>\n",
       "      <td>0.0</td>\n",
       "      <td>0.0</td>\n",
       "      <td>0.0</td>\n",
       "      <td>0.0</td>\n",
       "      <td>0.0</td>\n",
       "      <td>0.0</td>\n",
       "      <td>0.0</td>\n",
       "      <td>0.0</td>\n",
       "      <td>0.0</td>\n",
       "      <td>0.0</td>\n",
       "      <td>1</td>\n",
       "      <td>1</td>\n",
       "    </tr>\n",
       "    <tr>\n",
       "      <th>4</th>\n",
       "      <td>0</td>\n",
       "      <td>1</td>\n",
       "      <td>1</td>\n",
       "      <td>0</td>\n",
       "      <td>0.0</td>\n",
       "      <td>68.0</td>\n",
       "      <td>0.0</td>\n",
       "      <td>1.0</td>\n",
       "      <td>0.0</td>\n",
       "      <td>0.0</td>\n",
       "      <td>0.0</td>\n",
       "      <td>1.0</td>\n",
       "      <td>0.0</td>\n",
       "      <td>0.0</td>\n",
       "      <td>0.0</td>\n",
       "      <td>0.0</td>\n",
       "      <td>0.0</td>\n",
       "      <td>0</td>\n",
       "      <td>1</td>\n",
       "    </tr>\n",
       "    <tr>\n",
       "      <th>...</th>\n",
       "      <td>...</td>\n",
       "      <td>...</td>\n",
       "      <td>...</td>\n",
       "      <td>...</td>\n",
       "      <td>...</td>\n",
       "      <td>...</td>\n",
       "      <td>...</td>\n",
       "      <td>...</td>\n",
       "      <td>...</td>\n",
       "      <td>...</td>\n",
       "      <td>...</td>\n",
       "      <td>...</td>\n",
       "      <td>...</td>\n",
       "      <td>...</td>\n",
       "      <td>...</td>\n",
       "      <td>...</td>\n",
       "      <td>...</td>\n",
       "      <td>...</td>\n",
       "      <td>...</td>\n",
       "    </tr>\n",
       "    <tr>\n",
       "      <th>1048570</th>\n",
       "      <td>0</td>\n",
       "      <td>13</td>\n",
       "      <td>1</td>\n",
       "      <td>0</td>\n",
       "      <td>0.0</td>\n",
       "      <td>40.0</td>\n",
       "      <td>0.0</td>\n",
       "      <td>0.0</td>\n",
       "      <td>0.0</td>\n",
       "      <td>0.0</td>\n",
       "      <td>0.0</td>\n",
       "      <td>0.0</td>\n",
       "      <td>0.0</td>\n",
       "      <td>0.0</td>\n",
       "      <td>0.0</td>\n",
       "      <td>0.0</td>\n",
       "      <td>0.0</td>\n",
       "      <td>1</td>\n",
       "      <td>0</td>\n",
       "    </tr>\n",
       "    <tr>\n",
       "      <th>1048571</th>\n",
       "      <td>1</td>\n",
       "      <td>13</td>\n",
       "      <td>1</td>\n",
       "      <td>1</td>\n",
       "      <td>0.0</td>\n",
       "      <td>51.0</td>\n",
       "      <td>0.0</td>\n",
       "      <td>0.0</td>\n",
       "      <td>0.0</td>\n",
       "      <td>0.0</td>\n",
       "      <td>0.0</td>\n",
       "      <td>1.0</td>\n",
       "      <td>0.0</td>\n",
       "      <td>0.0</td>\n",
       "      <td>0.0</td>\n",
       "      <td>0.0</td>\n",
       "      <td>0.0</td>\n",
       "      <td>1</td>\n",
       "      <td>0</td>\n",
       "    </tr>\n",
       "    <tr>\n",
       "      <th>1048572</th>\n",
       "      <td>0</td>\n",
       "      <td>13</td>\n",
       "      <td>1</td>\n",
       "      <td>0</td>\n",
       "      <td>0.0</td>\n",
       "      <td>55.0</td>\n",
       "      <td>0.0</td>\n",
       "      <td>0.0</td>\n",
       "      <td>0.0</td>\n",
       "      <td>0.0</td>\n",
       "      <td>0.0</td>\n",
       "      <td>0.0</td>\n",
       "      <td>0.0</td>\n",
       "      <td>0.0</td>\n",
       "      <td>0.0</td>\n",
       "      <td>0.0</td>\n",
       "      <td>0.0</td>\n",
       "      <td>1</td>\n",
       "      <td>0</td>\n",
       "    </tr>\n",
       "    <tr>\n",
       "      <th>1048573</th>\n",
       "      <td>0</td>\n",
       "      <td>13</td>\n",
       "      <td>1</td>\n",
       "      <td>0</td>\n",
       "      <td>0.0</td>\n",
       "      <td>28.0</td>\n",
       "      <td>0.0</td>\n",
       "      <td>0.0</td>\n",
       "      <td>0.0</td>\n",
       "      <td>0.0</td>\n",
       "      <td>0.0</td>\n",
       "      <td>0.0</td>\n",
       "      <td>0.0</td>\n",
       "      <td>0.0</td>\n",
       "      <td>0.0</td>\n",
       "      <td>0.0</td>\n",
       "      <td>0.0</td>\n",
       "      <td>1</td>\n",
       "      <td>0</td>\n",
       "    </tr>\n",
       "    <tr>\n",
       "      <th>1048574</th>\n",
       "      <td>0</td>\n",
       "      <td>13</td>\n",
       "      <td>1</td>\n",
       "      <td>0</td>\n",
       "      <td>0.0</td>\n",
       "      <td>52.0</td>\n",
       "      <td>0.0</td>\n",
       "      <td>0.0</td>\n",
       "      <td>0.0</td>\n",
       "      <td>0.0</td>\n",
       "      <td>0.0</td>\n",
       "      <td>0.0</td>\n",
       "      <td>0.0</td>\n",
       "      <td>0.0</td>\n",
       "      <td>0.0</td>\n",
       "      <td>0.0</td>\n",
       "      <td>0.0</td>\n",
       "      <td>1</td>\n",
       "      <td>0</td>\n",
       "    </tr>\n",
       "  </tbody>\n",
       "</table>\n",
       "<p>1021655 rows × 19 columns</p>\n",
       "</div>"
      ],
      "text/plain": [
       "         USMER  MEDICAL_UNIT  SEX  PATIENT_TYPE  PNEUMONIA   AGE  PREGNANT  \\\n",
       "0            0             1    0             0        1.0  65.0       0.0   \n",
       "1            0             1    1             0        1.0  72.0       0.0   \n",
       "2            0             1    1             1        0.0  55.0       0.0   \n",
       "3            0             1    0             0        0.0  53.0       0.0   \n",
       "4            0             1    1             0        0.0  68.0       0.0   \n",
       "...        ...           ...  ...           ...        ...   ...       ...   \n",
       "1048570      0            13    1             0        0.0  40.0       0.0   \n",
       "1048571      1            13    1             1        0.0  51.0       0.0   \n",
       "1048572      0            13    1             0        0.0  55.0       0.0   \n",
       "1048573      0            13    1             0        0.0  28.0       0.0   \n",
       "1048574      0            13    1             0        0.0  52.0       0.0   \n",
       "\n",
       "         DIABETES  COPD  ASTHMA  INMSUPR  HIPERTENSION  OTHER_DISEASE  \\\n",
       "0             0.0   0.0     0.0      0.0           1.0            0.0   \n",
       "1             0.0   0.0     0.0      0.0           1.0            0.0   \n",
       "2             1.0   0.0     0.0      0.0           0.0            0.0   \n",
       "3             0.0   0.0     0.0      0.0           0.0            0.0   \n",
       "4             1.0   0.0     0.0      0.0           1.0            0.0   \n",
       "...           ...   ...     ...      ...           ...            ...   \n",
       "1048570       0.0   0.0     0.0      0.0           0.0            0.0   \n",
       "1048571       0.0   0.0     0.0      0.0           1.0            0.0   \n",
       "1048572       0.0   0.0     0.0      0.0           0.0            0.0   \n",
       "1048573       0.0   0.0     0.0      0.0           0.0            0.0   \n",
       "1048574       0.0   0.0     0.0      0.0           0.0            0.0   \n",
       "\n",
       "         CARDIOVASCULAR  OBESITY  RENAL_CHRONIC  TOBACCO  \\\n",
       "0                   0.0      0.0            0.0      0.0   \n",
       "1                   0.0      1.0            1.0      0.0   \n",
       "2                   0.0      0.0            0.0      0.0   \n",
       "3                   0.0      0.0            0.0      0.0   \n",
       "4                   0.0      0.0            0.0      0.0   \n",
       "...                 ...      ...            ...      ...   \n",
       "1048570             0.0      0.0            0.0      0.0   \n",
       "1048571             0.0      0.0            0.0      0.0   \n",
       "1048572             0.0      0.0            0.0      0.0   \n",
       "1048573             0.0      0.0            0.0      0.0   \n",
       "1048574             0.0      0.0            0.0      0.0   \n",
       "\n",
       "         CLASIFFICATION_FINAL  DEATH  \n",
       "0                           0      1  \n",
       "1                           1      1  \n",
       "2                           0      1  \n",
       "3                           1      1  \n",
       "4                           0      1  \n",
       "...                       ...    ...  \n",
       "1048570                     1      0  \n",
       "1048571                     1      0  \n",
       "1048572                     1      0  \n",
       "1048573                     1      0  \n",
       "1048574                     1      0  \n",
       "\n",
       "[1021655 rows x 19 columns]"
      ]
     },
<<<<<<< HEAD
     "execution_count": 37,
=======
     "execution_count": 88,
>>>>>>> fab1cb7cb6bca3f77398c53de3fd50ffe783edd9
     "metadata": {},
     "output_type": "execute_result"
    }
   ],
   "source": [
    "df"
   ]
  },
  {
   "cell_type": "markdown",
   "metadata": {},
   "source": [
    "## Trực quan hóa dữ liệu"
   ]
  },
  {
   "cell_type": "code",
<<<<<<< HEAD
   "execution_count": 38,
=======
   "execution_count": 89,
>>>>>>> fab1cb7cb6bca3f77398c53de3fd50ffe783edd9
   "metadata": {},
   "outputs": [
    {
     "data": {
      "text/plain": [
       "SEX\n",
       "1    511795\n",
       "0    509860\n",
       "Name: count, dtype: int64"
      ]
     },
<<<<<<< HEAD
     "execution_count": 38,
=======
     "execution_count": 89,
>>>>>>> fab1cb7cb6bca3f77398c53de3fd50ffe783edd9
     "metadata": {},
     "output_type": "execute_result"
    }
   ],
   "source": [
    "df['SEX'].value_counts()"
   ]
  },
  {
   "cell_type": "code",
<<<<<<< HEAD
   "execution_count": 39,
=======
   "execution_count": 90,
>>>>>>> fab1cb7cb6bca3f77398c53de3fd50ffe783edd9
   "metadata": {},
   "outputs": [
    {
     "data": {
      "application/vnd.plotly.v1+json": {
       "config": {
        "plotlyServerURL": "https://plot.ly"
       },
       "data": [
        {
         "hole": 0.3,
         "labels": [
          "Female",
          "Male"
         ],
         "type": "pie",
         "values": [
          511795,
          509860
         ]
        }
       ],
       "layout": {
        "template": {
         "data": {
          "bar": [
           {
            "error_x": {
             "color": "#2a3f5f"
            },
            "error_y": {
             "color": "#2a3f5f"
            },
            "marker": {
             "line": {
              "color": "#E5ECF6",
              "width": 0.5
             },
             "pattern": {
              "fillmode": "overlay",
              "size": 10,
              "solidity": 0.2
             }
            },
            "type": "bar"
           }
          ],
          "barpolar": [
           {
            "marker": {
             "line": {
              "color": "#E5ECF6",
              "width": 0.5
             },
             "pattern": {
              "fillmode": "overlay",
              "size": 10,
              "solidity": 0.2
             }
            },
            "type": "barpolar"
           }
          ],
          "carpet": [
           {
            "aaxis": {
             "endlinecolor": "#2a3f5f",
             "gridcolor": "white",
             "linecolor": "white",
             "minorgridcolor": "white",
             "startlinecolor": "#2a3f5f"
            },
            "baxis": {
             "endlinecolor": "#2a3f5f",
             "gridcolor": "white",
             "linecolor": "white",
             "minorgridcolor": "white",
             "startlinecolor": "#2a3f5f"
            },
            "type": "carpet"
           }
          ],
          "choropleth": [
           {
            "colorbar": {
             "outlinewidth": 0,
             "ticks": ""
            },
            "type": "choropleth"
           }
          ],
          "contour": [
           {
            "colorbar": {
             "outlinewidth": 0,
             "ticks": ""
            },
            "colorscale": [
             [
              0,
              "#0d0887"
             ],
             [
              0.1111111111111111,
              "#46039f"
             ],
             [
              0.2222222222222222,
              "#7201a8"
             ],
             [
              0.3333333333333333,
              "#9c179e"
             ],
             [
              0.4444444444444444,
              "#bd3786"
             ],
             [
              0.5555555555555556,
              "#d8576b"
             ],
             [
              0.6666666666666666,
              "#ed7953"
             ],
             [
              0.7777777777777778,
              "#fb9f3a"
             ],
             [
              0.8888888888888888,
              "#fdca26"
             ],
             [
              1,
              "#f0f921"
             ]
            ],
            "type": "contour"
           }
          ],
          "contourcarpet": [
           {
            "colorbar": {
             "outlinewidth": 0,
             "ticks": ""
            },
            "type": "contourcarpet"
           }
          ],
          "heatmap": [
           {
            "colorbar": {
             "outlinewidth": 0,
             "ticks": ""
            },
            "colorscale": [
             [
              0,
              "#0d0887"
             ],
             [
              0.1111111111111111,
              "#46039f"
             ],
             [
              0.2222222222222222,
              "#7201a8"
             ],
             [
              0.3333333333333333,
              "#9c179e"
             ],
             [
              0.4444444444444444,
              "#bd3786"
             ],
             [
              0.5555555555555556,
              "#d8576b"
             ],
             [
              0.6666666666666666,
              "#ed7953"
             ],
             [
              0.7777777777777778,
              "#fb9f3a"
             ],
             [
              0.8888888888888888,
              "#fdca26"
             ],
             [
              1,
              "#f0f921"
             ]
            ],
            "type": "heatmap"
           }
          ],
          "heatmapgl": [
           {
            "colorbar": {
             "outlinewidth": 0,
             "ticks": ""
            },
            "colorscale": [
             [
              0,
              "#0d0887"
             ],
             [
              0.1111111111111111,
              "#46039f"
             ],
             [
              0.2222222222222222,
              "#7201a8"
             ],
             [
              0.3333333333333333,
              "#9c179e"
             ],
             [
              0.4444444444444444,
              "#bd3786"
             ],
             [
              0.5555555555555556,
              "#d8576b"
             ],
             [
              0.6666666666666666,
              "#ed7953"
             ],
             [
              0.7777777777777778,
              "#fb9f3a"
             ],
             [
              0.8888888888888888,
              "#fdca26"
             ],
             [
              1,
              "#f0f921"
             ]
            ],
            "type": "heatmapgl"
           }
          ],
          "histogram": [
           {
            "marker": {
             "pattern": {
              "fillmode": "overlay",
              "size": 10,
              "solidity": 0.2
             }
            },
            "type": "histogram"
           }
          ],
          "histogram2d": [
           {
            "colorbar": {
             "outlinewidth": 0,
             "ticks": ""
            },
            "colorscale": [
             [
              0,
              "#0d0887"
             ],
             [
              0.1111111111111111,
              "#46039f"
             ],
             [
              0.2222222222222222,
              "#7201a8"
             ],
             [
              0.3333333333333333,
              "#9c179e"
             ],
             [
              0.4444444444444444,
              "#bd3786"
             ],
             [
              0.5555555555555556,
              "#d8576b"
             ],
             [
              0.6666666666666666,
              "#ed7953"
             ],
             [
              0.7777777777777778,
              "#fb9f3a"
             ],
             [
              0.8888888888888888,
              "#fdca26"
             ],
             [
              1,
              "#f0f921"
             ]
            ],
            "type": "histogram2d"
           }
          ],
          "histogram2dcontour": [
           {
            "colorbar": {
             "outlinewidth": 0,
             "ticks": ""
            },
            "colorscale": [
             [
              0,
              "#0d0887"
             ],
             [
              0.1111111111111111,
              "#46039f"
             ],
             [
              0.2222222222222222,
              "#7201a8"
             ],
             [
              0.3333333333333333,
              "#9c179e"
             ],
             [
              0.4444444444444444,
              "#bd3786"
             ],
             [
              0.5555555555555556,
              "#d8576b"
             ],
             [
              0.6666666666666666,
              "#ed7953"
             ],
             [
              0.7777777777777778,
              "#fb9f3a"
             ],
             [
              0.8888888888888888,
              "#fdca26"
             ],
             [
              1,
              "#f0f921"
             ]
            ],
            "type": "histogram2dcontour"
           }
          ],
          "mesh3d": [
           {
            "colorbar": {
             "outlinewidth": 0,
             "ticks": ""
            },
            "type": "mesh3d"
           }
          ],
          "parcoords": [
           {
            "line": {
             "colorbar": {
              "outlinewidth": 0,
              "ticks": ""
             }
            },
            "type": "parcoords"
           }
          ],
          "pie": [
           {
            "automargin": true,
            "type": "pie"
           }
          ],
          "scatter": [
           {
            "fillpattern": {
             "fillmode": "overlay",
             "size": 10,
             "solidity": 0.2
            },
            "type": "scatter"
           }
          ],
          "scatter3d": [
           {
            "line": {
             "colorbar": {
              "outlinewidth": 0,
              "ticks": ""
             }
            },
            "marker": {
             "colorbar": {
              "outlinewidth": 0,
              "ticks": ""
             }
            },
            "type": "scatter3d"
           }
          ],
          "scattercarpet": [
           {
            "marker": {
             "colorbar": {
              "outlinewidth": 0,
              "ticks": ""
             }
            },
            "type": "scattercarpet"
           }
          ],
          "scattergeo": [
           {
            "marker": {
             "colorbar": {
              "outlinewidth": 0,
              "ticks": ""
             }
            },
            "type": "scattergeo"
           }
          ],
          "scattergl": [
           {
            "marker": {
             "colorbar": {
              "outlinewidth": 0,
              "ticks": ""
             }
            },
            "type": "scattergl"
           }
          ],
          "scattermapbox": [
           {
            "marker": {
             "colorbar": {
              "outlinewidth": 0,
              "ticks": ""
             }
            },
            "type": "scattermapbox"
           }
          ],
          "scatterpolar": [
           {
            "marker": {
             "colorbar": {
              "outlinewidth": 0,
              "ticks": ""
             }
            },
            "type": "scatterpolar"
           }
          ],
          "scatterpolargl": [
           {
            "marker": {
             "colorbar": {
              "outlinewidth": 0,
              "ticks": ""
             }
            },
            "type": "scatterpolargl"
           }
          ],
          "scatterternary": [
           {
            "marker": {
             "colorbar": {
              "outlinewidth": 0,
              "ticks": ""
             }
            },
            "type": "scatterternary"
           }
          ],
          "surface": [
           {
            "colorbar": {
             "outlinewidth": 0,
             "ticks": ""
            },
            "colorscale": [
             [
              0,
              "#0d0887"
             ],
             [
              0.1111111111111111,
              "#46039f"
             ],
             [
              0.2222222222222222,
              "#7201a8"
             ],
             [
              0.3333333333333333,
              "#9c179e"
             ],
             [
              0.4444444444444444,
              "#bd3786"
             ],
             [
              0.5555555555555556,
              "#d8576b"
             ],
             [
              0.6666666666666666,
              "#ed7953"
             ],
             [
              0.7777777777777778,
              "#fb9f3a"
             ],
             [
              0.8888888888888888,
              "#fdca26"
             ],
             [
              1,
              "#f0f921"
             ]
            ],
            "type": "surface"
           }
          ],
          "table": [
           {
            "cells": {
             "fill": {
              "color": "#EBF0F8"
             },
             "line": {
              "color": "white"
             }
            },
            "header": {
             "fill": {
              "color": "#C8D4E3"
             },
             "line": {
              "color": "white"
             }
            },
            "type": "table"
           }
          ]
         },
         "layout": {
          "annotationdefaults": {
           "arrowcolor": "#2a3f5f",
           "arrowhead": 0,
           "arrowwidth": 1
          },
          "autotypenumbers": "strict",
          "coloraxis": {
           "colorbar": {
            "outlinewidth": 0,
            "ticks": ""
           }
          },
          "colorscale": {
           "diverging": [
            [
             0,
             "#8e0152"
            ],
            [
             0.1,
             "#c51b7d"
            ],
            [
             0.2,
             "#de77ae"
            ],
            [
             0.3,
             "#f1b6da"
            ],
            [
             0.4,
             "#fde0ef"
            ],
            [
             0.5,
             "#f7f7f7"
            ],
            [
             0.6,
             "#e6f5d0"
            ],
            [
             0.7,
             "#b8e186"
            ],
            [
             0.8,
             "#7fbc41"
            ],
            [
             0.9,
             "#4d9221"
            ],
            [
             1,
             "#276419"
            ]
           ],
           "sequential": [
            [
             0,
             "#0d0887"
            ],
            [
             0.1111111111111111,
             "#46039f"
            ],
            [
             0.2222222222222222,
             "#7201a8"
            ],
            [
             0.3333333333333333,
             "#9c179e"
            ],
            [
             0.4444444444444444,
             "#bd3786"
            ],
            [
             0.5555555555555556,
             "#d8576b"
            ],
            [
             0.6666666666666666,
             "#ed7953"
            ],
            [
             0.7777777777777778,
             "#fb9f3a"
            ],
            [
             0.8888888888888888,
             "#fdca26"
            ],
            [
             1,
             "#f0f921"
            ]
           ],
           "sequentialminus": [
            [
             0,
             "#0d0887"
            ],
            [
             0.1111111111111111,
             "#46039f"
            ],
            [
             0.2222222222222222,
             "#7201a8"
            ],
            [
             0.3333333333333333,
             "#9c179e"
            ],
            [
             0.4444444444444444,
             "#bd3786"
            ],
            [
             0.5555555555555556,
             "#d8576b"
            ],
            [
             0.6666666666666666,
             "#ed7953"
            ],
            [
             0.7777777777777778,
             "#fb9f3a"
            ],
            [
             0.8888888888888888,
             "#fdca26"
            ],
            [
             1,
             "#f0f921"
            ]
           ]
          },
          "colorway": [
           "#636efa",
           "#EF553B",
           "#00cc96",
           "#ab63fa",
           "#FFA15A",
           "#19d3f3",
           "#FF6692",
           "#B6E880",
           "#FF97FF",
           "#FECB52"
          ],
          "font": {
           "color": "#2a3f5f"
          },
          "geo": {
           "bgcolor": "white",
           "lakecolor": "white",
           "landcolor": "#E5ECF6",
           "showlakes": true,
           "showland": true,
           "subunitcolor": "white"
          },
          "hoverlabel": {
           "align": "left"
          },
          "hovermode": "closest",
          "mapbox": {
           "style": "light"
          },
          "paper_bgcolor": "white",
          "plot_bgcolor": "#E5ECF6",
          "polar": {
           "angularaxis": {
            "gridcolor": "white",
            "linecolor": "white",
            "ticks": ""
           },
           "bgcolor": "#E5ECF6",
           "radialaxis": {
            "gridcolor": "white",
            "linecolor": "white",
            "ticks": ""
           }
          },
          "scene": {
           "xaxis": {
            "backgroundcolor": "#E5ECF6",
            "gridcolor": "white",
            "gridwidth": 2,
            "linecolor": "white",
            "showbackground": true,
            "ticks": "",
            "zerolinecolor": "white"
           },
           "yaxis": {
            "backgroundcolor": "#E5ECF6",
            "gridcolor": "white",
            "gridwidth": 2,
            "linecolor": "white",
            "showbackground": true,
            "ticks": "",
            "zerolinecolor": "white"
           },
           "zaxis": {
            "backgroundcolor": "#E5ECF6",
            "gridcolor": "white",
            "gridwidth": 2,
            "linecolor": "white",
            "showbackground": true,
            "ticks": "",
            "zerolinecolor": "white"
           }
          },
          "shapedefaults": {
           "line": {
            "color": "#2a3f5f"
           }
          },
          "ternary": {
           "aaxis": {
            "gridcolor": "white",
            "linecolor": "white",
            "ticks": ""
           },
           "baxis": {
            "gridcolor": "white",
            "linecolor": "white",
            "ticks": ""
           },
           "bgcolor": "#E5ECF6",
           "caxis": {
            "gridcolor": "white",
            "linecolor": "white",
            "ticks": ""
           }
          },
          "title": {
           "x": 0.05
          },
          "xaxis": {
           "automargin": true,
           "gridcolor": "white",
           "linecolor": "white",
           "ticks": "",
           "title": {
            "standoff": 15
           },
           "zerolinecolor": "white",
           "zerolinewidth": 2
          },
          "yaxis": {
           "automargin": true,
           "gridcolor": "white",
           "linecolor": "white",
           "ticks": "",
           "title": {
            "standoff": 15
           },
           "zerolinecolor": "white",
           "zerolinewidth": 2
          }
         }
        }
       }
      }
     },
     "metadata": {},
     "output_type": "display_data"
    }
   ],
   "source": [
    "import plotly.graph_objects as go\n",
    "\n",
    "labels = ['Female','Male']\n",
    "values = [ 511795, 509860]\n",
    "\n",
    "# Use `hole` to create a donut-like pie chart\n",
    "fig = go.Figure(data=[go.Pie(labels=labels, values=values, hole=.3)])\n",
    "fig.show()"
   ]
  },
  {
   "cell_type": "code",
<<<<<<< HEAD
   "execution_count": 40,
=======
   "execution_count": 91,
>>>>>>> fab1cb7cb6bca3f77398c53de3fd50ffe783edd9
   "metadata": {},
   "outputs": [
    {
     "data": {
      "text/plain": [
       "Text(0.5, 1.0, 'AGE DISTRIBUTION')"
      ]
     },
<<<<<<< HEAD
     "execution_count": 40,
=======
     "execution_count": 91,
>>>>>>> fab1cb7cb6bca3f77398c53de3fd50ffe783edd9
     "metadata": {},
     "output_type": "execute_result"
    },
    {
     "data": {
      "image/png": "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",
      "text/plain": [
       "<Figure size 640x480 with 1 Axes>"
      ]
     },
     "metadata": {},
     "output_type": "display_data"
    }
   ],
   "source": [
    "sns.histplot(df['AGE'], kde=True, color='b', bins=30)\n",
    "plt.title('AGE DISTRIBUTION')"
   ]
  },
  {
   "cell_type": "code",
<<<<<<< HEAD
   "execution_count": 41,
=======
   "execution_count": 92,
>>>>>>> fab1cb7cb6bca3f77398c53de3fd50ffe783edd9
   "metadata": {},
   "outputs": [
    {
     "data": {
      "text/plain": [
       "<Axes: xlabel='AGE', ylabel='Count'>"
      ]
     },
<<<<<<< HEAD
     "execution_count": 41,
=======
     "execution_count": 92,
>>>>>>> fab1cb7cb6bca3f77398c53de3fd50ffe783edd9
     "metadata": {},
     "output_type": "execute_result"
    },
    {
     "data": {
      "image/png": "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",
      "text/plain": [
       "<Figure size 1500x1000 with 1 Axes>"
      ]
     },
     "metadata": {},
     "output_type": "display_data"
    }
   ],
   "source": [
    "plt.figure(figsize = (15, 10))\n",
    "sns.histplot(x = 'AGE', hue = 'DEATH', data = df , kde=True )"
   ]
  },
  {
   "cell_type": "markdown",
   "metadata": {},
   "source": [
    "- Người cao tuổi có khả năng tử vong cao hơn người trẻ"
   ]
  },
  {
   "cell_type": "code",
<<<<<<< HEAD
   "execution_count": 42,
=======
   "execution_count": 93,
>>>>>>> fab1cb7cb6bca3f77398c53de3fd50ffe783edd9
   "metadata": {},
   "outputs": [
    {
     "data": {
      "text/plain": [
       "DIABETES\n",
       "0.0    899531\n",
       "1.0    122124\n",
       "Name: count, dtype: int64"
      ]
     },
<<<<<<< HEAD
     "execution_count": 42,
=======
     "execution_count": 93,
>>>>>>> fab1cb7cb6bca3f77398c53de3fd50ffe783edd9
     "metadata": {},
     "output_type": "execute_result"
    }
   ],
   "source": [
    "df['DIABETES'].value_counts()"
   ]
  },
  {
   "cell_type": "code",
<<<<<<< HEAD
   "execution_count": 43,
   "metadata": {},
   "outputs": [
    {
     "data": {
      "text/plain": [
       "<Axes: xlabel='DIABETES', ylabel='count'>"
      ]
     },
     "execution_count": 43,
     "metadata": {},
     "output_type": "execute_result"
=======
   "execution_count": 94,
   "metadata": {},
   "outputs": [
    {
     "ename": "AttributeError",
     "evalue": "'numpy.int64' object has no attribute 'startswith'",
     "output_type": "error",
     "traceback": [
      "\u001b[1;31m---------------------------------------------------------------------------\u001b[0m",
      "\u001b[1;31mAttributeError\u001b[0m                            Traceback (most recent call last)",
      "Cell \u001b[1;32mIn[94], line 1\u001b[0m\n\u001b[1;32m----> 1\u001b[0m sns\u001b[38;5;241m.\u001b[39mcountplot(data \u001b[38;5;241m=\u001b[39m df, x \u001b[38;5;241m=\u001b[39m \u001b[38;5;124m\"\u001b[39m\u001b[38;5;124mDIABETES\u001b[39m\u001b[38;5;124m\"\u001b[39m, hue \u001b[38;5;241m=\u001b[39m \u001b[38;5;124m\"\u001b[39m\u001b[38;5;124mDEATH\u001b[39m\u001b[38;5;124m\"\u001b[39m)\n",
      "File \u001b[1;32mc:\\Users\\LEGION\\anaconda3\\ana\\Lib\\site-packages\\seaborn\\categorical.py:2955\u001b[0m, in \u001b[0;36mcountplot\u001b[1;34m(data, x, y, hue, order, hue_order, orient, color, palette, saturation, width, dodge, ax, **kwargs)\u001b[0m\n\u001b[0;32m   2952\u001b[0m \u001b[38;5;28;01mif\u001b[39;00m ax \u001b[38;5;129;01mis\u001b[39;00m \u001b[38;5;28;01mNone\u001b[39;00m:\n\u001b[0;32m   2953\u001b[0m     ax \u001b[38;5;241m=\u001b[39m plt\u001b[38;5;241m.\u001b[39mgca()\n\u001b[1;32m-> 2955\u001b[0m plotter\u001b[38;5;241m.\u001b[39mplot(ax, kwargs)\n\u001b[0;32m   2956\u001b[0m \u001b[38;5;28;01mreturn\u001b[39;00m ax\n",
      "File \u001b[1;32mc:\\Users\\LEGION\\anaconda3\\ana\\Lib\\site-packages\\seaborn\\categorical.py:1587\u001b[0m, in \u001b[0;36m_BarPlotter.plot\u001b[1;34m(self, ax, bar_kws)\u001b[0m\n\u001b[0;32m   1585\u001b[0m \u001b[38;5;250m\u001b[39m\u001b[38;5;124;03m\"\"\"Make the plot.\"\"\"\u001b[39;00m\n\u001b[0;32m   1586\u001b[0m \u001b[38;5;28mself\u001b[39m\u001b[38;5;241m.\u001b[39mdraw_bars(ax, bar_kws)\n\u001b[1;32m-> 1587\u001b[0m \u001b[38;5;28mself\u001b[39m\u001b[38;5;241m.\u001b[39mannotate_axes(ax)\n\u001b[0;32m   1588\u001b[0m \u001b[38;5;28;01mif\u001b[39;00m \u001b[38;5;28mself\u001b[39m\u001b[38;5;241m.\u001b[39morient \u001b[38;5;241m==\u001b[39m \u001b[38;5;124m\"\u001b[39m\u001b[38;5;124mh\u001b[39m\u001b[38;5;124m\"\u001b[39m:\n\u001b[0;32m   1589\u001b[0m     ax\u001b[38;5;241m.\u001b[39minvert_yaxis()\n",
      "File \u001b[1;32mc:\\Users\\LEGION\\anaconda3\\ana\\Lib\\site-packages\\seaborn\\categorical.py:767\u001b[0m, in \u001b[0;36m_CategoricalPlotter.annotate_axes\u001b[1;34m(self, ax)\u001b[0m\n\u001b[0;32m    764\u001b[0m     ax\u001b[38;5;241m.\u001b[39mset_ylim(\u001b[38;5;241m-\u001b[39m\u001b[38;5;241m.5\u001b[39m, \u001b[38;5;28mlen\u001b[39m(\u001b[38;5;28mself\u001b[39m\u001b[38;5;241m.\u001b[39mplot_data) \u001b[38;5;241m-\u001b[39m \u001b[38;5;241m.5\u001b[39m, auto\u001b[38;5;241m=\u001b[39m\u001b[38;5;28;01mNone\u001b[39;00m)\n\u001b[0;32m    766\u001b[0m \u001b[38;5;28;01mif\u001b[39;00m \u001b[38;5;28mself\u001b[39m\u001b[38;5;241m.\u001b[39mhue_names \u001b[38;5;129;01mis\u001b[39;00m \u001b[38;5;129;01mnot\u001b[39;00m \u001b[38;5;28;01mNone\u001b[39;00m:\n\u001b[1;32m--> 767\u001b[0m     ax\u001b[38;5;241m.\u001b[39mlegend(loc\u001b[38;5;241m=\u001b[39m\u001b[38;5;124m\"\u001b[39m\u001b[38;5;124mbest\u001b[39m\u001b[38;5;124m\"\u001b[39m, title\u001b[38;5;241m=\u001b[39m\u001b[38;5;28mself\u001b[39m\u001b[38;5;241m.\u001b[39mhue_title)\n",
      "File \u001b[1;32mc:\\Users\\LEGION\\anaconda3\\ana\\Lib\\site-packages\\matplotlib\\axes\\_axes.py:322\u001b[0m, in \u001b[0;36mAxes.legend\u001b[1;34m(self, *args, **kwargs)\u001b[0m\n\u001b[0;32m    204\u001b[0m \u001b[38;5;129m@_docstring\u001b[39m\u001b[38;5;241m.\u001b[39mdedent_interpd\n\u001b[0;32m    205\u001b[0m \u001b[38;5;28;01mdef\u001b[39;00m \u001b[38;5;21mlegend\u001b[39m(\u001b[38;5;28mself\u001b[39m, \u001b[38;5;241m*\u001b[39margs, \u001b[38;5;241m*\u001b[39m\u001b[38;5;241m*\u001b[39mkwargs):\n\u001b[0;32m    206\u001b[0m \u001b[38;5;250m    \u001b[39m\u001b[38;5;124;03m\"\"\"\u001b[39;00m\n\u001b[0;32m    207\u001b[0m \u001b[38;5;124;03m    Place a legend on the Axes.\u001b[39;00m\n\u001b[0;32m    208\u001b[0m \n\u001b[1;32m   (...)\u001b[0m\n\u001b[0;32m    320\u001b[0m \u001b[38;5;124;03m    .. plot:: gallery/text_labels_and_annotations/legend.py\u001b[39;00m\n\u001b[0;32m    321\u001b[0m \u001b[38;5;124;03m    \"\"\"\u001b[39;00m\n\u001b[1;32m--> 322\u001b[0m     handles, labels, kwargs \u001b[38;5;241m=\u001b[39m mlegend\u001b[38;5;241m.\u001b[39m_parse_legend_args([\u001b[38;5;28mself\u001b[39m], \u001b[38;5;241m*\u001b[39margs, \u001b[38;5;241m*\u001b[39m\u001b[38;5;241m*\u001b[39mkwargs)\n\u001b[0;32m    323\u001b[0m     \u001b[38;5;28mself\u001b[39m\u001b[38;5;241m.\u001b[39mlegend_ \u001b[38;5;241m=\u001b[39m mlegend\u001b[38;5;241m.\u001b[39mLegend(\u001b[38;5;28mself\u001b[39m, handles, labels, \u001b[38;5;241m*\u001b[39m\u001b[38;5;241m*\u001b[39mkwargs)\n\u001b[0;32m    324\u001b[0m     \u001b[38;5;28mself\u001b[39m\u001b[38;5;241m.\u001b[39mlegend_\u001b[38;5;241m.\u001b[39m_remove_method \u001b[38;5;241m=\u001b[39m \u001b[38;5;28mself\u001b[39m\u001b[38;5;241m.\u001b[39m_remove_legend\n",
      "File \u001b[1;32mc:\\Users\\LEGION\\anaconda3\\ana\\Lib\\site-packages\\matplotlib\\legend.py:1361\u001b[0m, in \u001b[0;36m_parse_legend_args\u001b[1;34m(axs, handles, labels, *args, **kwargs)\u001b[0m\n\u001b[0;32m   1357\u001b[0m     handles \u001b[38;5;241m=\u001b[39m [handle \u001b[38;5;28;01mfor\u001b[39;00m handle, label\n\u001b[0;32m   1358\u001b[0m                \u001b[38;5;129;01min\u001b[39;00m \u001b[38;5;28mzip\u001b[39m(_get_legend_handles(axs, handlers), labels)]\n\u001b[0;32m   1360\u001b[0m \u001b[38;5;28;01melif\u001b[39;00m \u001b[38;5;28mlen\u001b[39m(args) \u001b[38;5;241m==\u001b[39m \u001b[38;5;241m0\u001b[39m:  \u001b[38;5;66;03m# 0 args: automatically detect labels and handles.\u001b[39;00m\n\u001b[1;32m-> 1361\u001b[0m     handles, labels \u001b[38;5;241m=\u001b[39m _get_legend_handles_labels(axs, handlers)\n\u001b[0;32m   1362\u001b[0m     \u001b[38;5;28;01mif\u001b[39;00m \u001b[38;5;129;01mnot\u001b[39;00m handles:\n\u001b[0;32m   1363\u001b[0m         log\u001b[38;5;241m.\u001b[39mwarning(\n\u001b[0;32m   1364\u001b[0m             \u001b[38;5;124m\"\u001b[39m\u001b[38;5;124mNo artists with labels found to put in legend.  Note that \u001b[39m\u001b[38;5;124m\"\u001b[39m\n\u001b[0;32m   1365\u001b[0m             \u001b[38;5;124m\"\u001b[39m\u001b[38;5;124martists whose label start with an underscore are ignored \u001b[39m\u001b[38;5;124m\"\u001b[39m\n\u001b[0;32m   1366\u001b[0m             \u001b[38;5;124m\"\u001b[39m\u001b[38;5;124mwhen legend() is called with no argument.\u001b[39m\u001b[38;5;124m\"\u001b[39m)\n",
      "File \u001b[1;32mc:\\Users\\LEGION\\anaconda3\\ana\\Lib\\site-packages\\matplotlib\\legend.py:1291\u001b[0m, in \u001b[0;36m_get_legend_handles_labels\u001b[1;34m(axs, legend_handler_map)\u001b[0m\n\u001b[0;32m   1289\u001b[0m \u001b[38;5;28;01mfor\u001b[39;00m handle \u001b[38;5;129;01min\u001b[39;00m _get_legend_handles(axs, legend_handler_map):\n\u001b[0;32m   1290\u001b[0m     label \u001b[38;5;241m=\u001b[39m handle\u001b[38;5;241m.\u001b[39mget_label()\n\u001b[1;32m-> 1291\u001b[0m     \u001b[38;5;28;01mif\u001b[39;00m label \u001b[38;5;129;01mand\u001b[39;00m \u001b[38;5;129;01mnot\u001b[39;00m label\u001b[38;5;241m.\u001b[39mstartswith(\u001b[38;5;124m'\u001b[39m\u001b[38;5;124m_\u001b[39m\u001b[38;5;124m'\u001b[39m):\n\u001b[0;32m   1292\u001b[0m         handles\u001b[38;5;241m.\u001b[39mappend(handle)\n\u001b[0;32m   1293\u001b[0m         labels\u001b[38;5;241m.\u001b[39mappend(label)\n",
      "\u001b[1;31mAttributeError\u001b[0m: 'numpy.int64' object has no attribute 'startswith'"
     ]
>>>>>>> fab1cb7cb6bca3f77398c53de3fd50ffe783edd9
    },
    {
     "data": {
      "image/png": "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",
      "text/plain": [
       "<Figure size 640x480 with 1 Axes>"
      ]
     },
     "metadata": {},
     "output_type": "display_data"
    }
   ],
   "source": [
    "sns.countplot(data = df, x = \"DIABETES\", hue = \"DEATH\")"
   ]
  },
  {
   "cell_type": "code",
<<<<<<< HEAD
   "execution_count": 44,
   "metadata": {},
   "outputs": [
    {
     "data": {
      "text/plain": [
       "<Axes: xlabel='HIPERTENSION', ylabel='count'>"
      ]
     },
     "execution_count": 44,
     "metadata": {},
     "output_type": "execute_result"
=======
   "execution_count": null,
   "metadata": {},
   "outputs": [
    {
     "ename": "AttributeError",
     "evalue": "'numpy.int64' object has no attribute 'startswith'",
     "output_type": "error",
     "traceback": [
      "\u001b[1;31m---------------------------------------------------------------------------\u001b[0m",
      "\u001b[1;31mAttributeError\u001b[0m                            Traceback (most recent call last)",
      "Cell \u001b[1;32mIn[43], line 1\u001b[0m\n\u001b[1;32m----> 1\u001b[0m sns\u001b[38;5;241m.\u001b[39mcountplot(data\u001b[38;5;241m=\u001b[39mdf, x\u001b[38;5;241m=\u001b[39m\u001b[38;5;124m\"\u001b[39m\u001b[38;5;124mHIPERTENSION\u001b[39m\u001b[38;5;124m\"\u001b[39m, hue\u001b[38;5;241m=\u001b[39m\u001b[38;5;124m\"\u001b[39m\u001b[38;5;124mDEATH\u001b[39m\u001b[38;5;124m\"\u001b[39m)\n",
      "File \u001b[1;32mc:\\Users\\LEGION\\anaconda3\\ana\\Lib\\site-packages\\seaborn\\categorical.py:2955\u001b[0m, in \u001b[0;36mcountplot\u001b[1;34m(data, x, y, hue, order, hue_order, orient, color, palette, saturation, width, dodge, ax, **kwargs)\u001b[0m\n\u001b[0;32m   2952\u001b[0m \u001b[38;5;28;01mif\u001b[39;00m ax \u001b[38;5;129;01mis\u001b[39;00m \u001b[38;5;28;01mNone\u001b[39;00m:\n\u001b[0;32m   2953\u001b[0m     ax \u001b[38;5;241m=\u001b[39m plt\u001b[38;5;241m.\u001b[39mgca()\n\u001b[1;32m-> 2955\u001b[0m plotter\u001b[38;5;241m.\u001b[39mplot(ax, kwargs)\n\u001b[0;32m   2956\u001b[0m \u001b[38;5;28;01mreturn\u001b[39;00m ax\n",
      "File \u001b[1;32mc:\\Users\\LEGION\\anaconda3\\ana\\Lib\\site-packages\\seaborn\\categorical.py:1587\u001b[0m, in \u001b[0;36m_BarPlotter.plot\u001b[1;34m(self, ax, bar_kws)\u001b[0m\n\u001b[0;32m   1585\u001b[0m \u001b[38;5;250m\u001b[39m\u001b[38;5;124;03m\"\"\"Make the plot.\"\"\"\u001b[39;00m\n\u001b[0;32m   1586\u001b[0m \u001b[38;5;28mself\u001b[39m\u001b[38;5;241m.\u001b[39mdraw_bars(ax, bar_kws)\n\u001b[1;32m-> 1587\u001b[0m \u001b[38;5;28mself\u001b[39m\u001b[38;5;241m.\u001b[39mannotate_axes(ax)\n\u001b[0;32m   1588\u001b[0m \u001b[38;5;28;01mif\u001b[39;00m \u001b[38;5;28mself\u001b[39m\u001b[38;5;241m.\u001b[39morient \u001b[38;5;241m==\u001b[39m \u001b[38;5;124m\"\u001b[39m\u001b[38;5;124mh\u001b[39m\u001b[38;5;124m\"\u001b[39m:\n\u001b[0;32m   1589\u001b[0m     ax\u001b[38;5;241m.\u001b[39minvert_yaxis()\n",
      "File \u001b[1;32mc:\\Users\\LEGION\\anaconda3\\ana\\Lib\\site-packages\\seaborn\\categorical.py:767\u001b[0m, in \u001b[0;36m_CategoricalPlotter.annotate_axes\u001b[1;34m(self, ax)\u001b[0m\n\u001b[0;32m    764\u001b[0m     ax\u001b[38;5;241m.\u001b[39mset_ylim(\u001b[38;5;241m-\u001b[39m\u001b[38;5;241m.5\u001b[39m, \u001b[38;5;28mlen\u001b[39m(\u001b[38;5;28mself\u001b[39m\u001b[38;5;241m.\u001b[39mplot_data) \u001b[38;5;241m-\u001b[39m \u001b[38;5;241m.5\u001b[39m, auto\u001b[38;5;241m=\u001b[39m\u001b[38;5;28;01mNone\u001b[39;00m)\n\u001b[0;32m    766\u001b[0m \u001b[38;5;28;01mif\u001b[39;00m \u001b[38;5;28mself\u001b[39m\u001b[38;5;241m.\u001b[39mhue_names \u001b[38;5;129;01mis\u001b[39;00m \u001b[38;5;129;01mnot\u001b[39;00m \u001b[38;5;28;01mNone\u001b[39;00m:\n\u001b[1;32m--> 767\u001b[0m     ax\u001b[38;5;241m.\u001b[39mlegend(loc\u001b[38;5;241m=\u001b[39m\u001b[38;5;124m\"\u001b[39m\u001b[38;5;124mbest\u001b[39m\u001b[38;5;124m\"\u001b[39m, title\u001b[38;5;241m=\u001b[39m\u001b[38;5;28mself\u001b[39m\u001b[38;5;241m.\u001b[39mhue_title)\n",
      "File \u001b[1;32mc:\\Users\\LEGION\\anaconda3\\ana\\Lib\\site-packages\\matplotlib\\axes\\_axes.py:322\u001b[0m, in \u001b[0;36mAxes.legend\u001b[1;34m(self, *args, **kwargs)\u001b[0m\n\u001b[0;32m    204\u001b[0m \u001b[38;5;129m@_docstring\u001b[39m\u001b[38;5;241m.\u001b[39mdedent_interpd\n\u001b[0;32m    205\u001b[0m \u001b[38;5;28;01mdef\u001b[39;00m \u001b[38;5;21mlegend\u001b[39m(\u001b[38;5;28mself\u001b[39m, \u001b[38;5;241m*\u001b[39margs, \u001b[38;5;241m*\u001b[39m\u001b[38;5;241m*\u001b[39mkwargs):\n\u001b[0;32m    206\u001b[0m \u001b[38;5;250m    \u001b[39m\u001b[38;5;124;03m\"\"\"\u001b[39;00m\n\u001b[0;32m    207\u001b[0m \u001b[38;5;124;03m    Place a legend on the Axes.\u001b[39;00m\n\u001b[0;32m    208\u001b[0m \n\u001b[1;32m   (...)\u001b[0m\n\u001b[0;32m    320\u001b[0m \u001b[38;5;124;03m    .. plot:: gallery/text_labels_and_annotations/legend.py\u001b[39;00m\n\u001b[0;32m    321\u001b[0m \u001b[38;5;124;03m    \"\"\"\u001b[39;00m\n\u001b[1;32m--> 322\u001b[0m     handles, labels, kwargs \u001b[38;5;241m=\u001b[39m mlegend\u001b[38;5;241m.\u001b[39m_parse_legend_args([\u001b[38;5;28mself\u001b[39m], \u001b[38;5;241m*\u001b[39margs, \u001b[38;5;241m*\u001b[39m\u001b[38;5;241m*\u001b[39mkwargs)\n\u001b[0;32m    323\u001b[0m     \u001b[38;5;28mself\u001b[39m\u001b[38;5;241m.\u001b[39mlegend_ \u001b[38;5;241m=\u001b[39m mlegend\u001b[38;5;241m.\u001b[39mLegend(\u001b[38;5;28mself\u001b[39m, handles, labels, \u001b[38;5;241m*\u001b[39m\u001b[38;5;241m*\u001b[39mkwargs)\n\u001b[0;32m    324\u001b[0m     \u001b[38;5;28mself\u001b[39m\u001b[38;5;241m.\u001b[39mlegend_\u001b[38;5;241m.\u001b[39m_remove_method \u001b[38;5;241m=\u001b[39m \u001b[38;5;28mself\u001b[39m\u001b[38;5;241m.\u001b[39m_remove_legend\n",
      "File \u001b[1;32mc:\\Users\\LEGION\\anaconda3\\ana\\Lib\\site-packages\\matplotlib\\legend.py:1361\u001b[0m, in \u001b[0;36m_parse_legend_args\u001b[1;34m(axs, handles, labels, *args, **kwargs)\u001b[0m\n\u001b[0;32m   1357\u001b[0m     handles \u001b[38;5;241m=\u001b[39m [handle \u001b[38;5;28;01mfor\u001b[39;00m handle, label\n\u001b[0;32m   1358\u001b[0m                \u001b[38;5;129;01min\u001b[39;00m \u001b[38;5;28mzip\u001b[39m(_get_legend_handles(axs, handlers), labels)]\n\u001b[0;32m   1360\u001b[0m \u001b[38;5;28;01melif\u001b[39;00m \u001b[38;5;28mlen\u001b[39m(args) \u001b[38;5;241m==\u001b[39m \u001b[38;5;241m0\u001b[39m:  \u001b[38;5;66;03m# 0 args: automatically detect labels and handles.\u001b[39;00m\n\u001b[1;32m-> 1361\u001b[0m     handles, labels \u001b[38;5;241m=\u001b[39m _get_legend_handles_labels(axs, handlers)\n\u001b[0;32m   1362\u001b[0m     \u001b[38;5;28;01mif\u001b[39;00m \u001b[38;5;129;01mnot\u001b[39;00m handles:\n\u001b[0;32m   1363\u001b[0m         log\u001b[38;5;241m.\u001b[39mwarning(\n\u001b[0;32m   1364\u001b[0m             \u001b[38;5;124m\"\u001b[39m\u001b[38;5;124mNo artists with labels found to put in legend.  Note that \u001b[39m\u001b[38;5;124m\"\u001b[39m\n\u001b[0;32m   1365\u001b[0m             \u001b[38;5;124m\"\u001b[39m\u001b[38;5;124martists whose label start with an underscore are ignored \u001b[39m\u001b[38;5;124m\"\u001b[39m\n\u001b[0;32m   1366\u001b[0m             \u001b[38;5;124m\"\u001b[39m\u001b[38;5;124mwhen legend() is called with no argument.\u001b[39m\u001b[38;5;124m\"\u001b[39m)\n",
      "File \u001b[1;32mc:\\Users\\LEGION\\anaconda3\\ana\\Lib\\site-packages\\matplotlib\\legend.py:1291\u001b[0m, in \u001b[0;36m_get_legend_handles_labels\u001b[1;34m(axs, legend_handler_map)\u001b[0m\n\u001b[0;32m   1289\u001b[0m \u001b[38;5;28;01mfor\u001b[39;00m handle \u001b[38;5;129;01min\u001b[39;00m _get_legend_handles(axs, legend_handler_map):\n\u001b[0;32m   1290\u001b[0m     label \u001b[38;5;241m=\u001b[39m handle\u001b[38;5;241m.\u001b[39mget_label()\n\u001b[1;32m-> 1291\u001b[0m     \u001b[38;5;28;01mif\u001b[39;00m label \u001b[38;5;129;01mand\u001b[39;00m \u001b[38;5;129;01mnot\u001b[39;00m label\u001b[38;5;241m.\u001b[39mstartswith(\u001b[38;5;124m'\u001b[39m\u001b[38;5;124m_\u001b[39m\u001b[38;5;124m'\u001b[39m):\n\u001b[0;32m   1292\u001b[0m         handles\u001b[38;5;241m.\u001b[39mappend(handle)\n\u001b[0;32m   1293\u001b[0m         labels\u001b[38;5;241m.\u001b[39mappend(label)\n",
      "\u001b[1;31mAttributeError\u001b[0m: 'numpy.int64' object has no attribute 'startswith'"
     ]
>>>>>>> fab1cb7cb6bca3f77398c53de3fd50ffe783edd9
    },
    {
     "data": {
      "image/png": "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",
      "text/plain": [
       "<Figure size 640x480 with 1 Axes>"
      ]
     },
     "metadata": {},
     "output_type": "display_data"
    }
   ],
   "source": [
    "sns.countplot(data=df, x=\"HIPERTENSION\", hue=\"DEATH\")"
   ]
  },
  {
   "cell_type": "markdown",
   "metadata": {},
   "source": [
    "- Số người nhiễm virus Corona mắc bệnh tăng huyết áp có khả năng tử vong cao hơn so với những người không mắc bệnh tăng huyết áp."
   ]
  },
  {
   "cell_type": "code",
<<<<<<< HEAD
   "execution_count": 45,
   "metadata": {},
   "outputs": [
    {
     "data": {
      "text/plain": [
       "<Axes: xlabel='RENAL_CHRONIC', ylabel='count'>"
      ]
     },
     "execution_count": 45,
     "metadata": {},
     "output_type": "execute_result"
=======
   "execution_count": null,
   "metadata": {},
   "outputs": [
    {
     "ename": "AttributeError",
     "evalue": "'numpy.int64' object has no attribute 'startswith'",
     "output_type": "error",
     "traceback": [
      "\u001b[1;31m---------------------------------------------------------------------------\u001b[0m",
      "\u001b[1;31mAttributeError\u001b[0m                            Traceback (most recent call last)",
      "Cell \u001b[1;32mIn[44], line 1\u001b[0m\n\u001b[1;32m----> 1\u001b[0m sns\u001b[38;5;241m.\u001b[39mcountplot(data\u001b[38;5;241m=\u001b[39mdf, x\u001b[38;5;241m=\u001b[39m\u001b[38;5;124m\"\u001b[39m\u001b[38;5;124mRENAL_CHRONIC\u001b[39m\u001b[38;5;124m\"\u001b[39m, hue\u001b[38;5;241m=\u001b[39m\u001b[38;5;124m\"\u001b[39m\u001b[38;5;124mDEATH\u001b[39m\u001b[38;5;124m\"\u001b[39m)\n",
      "File \u001b[1;32mc:\\Users\\LEGION\\anaconda3\\ana\\Lib\\site-packages\\seaborn\\categorical.py:2955\u001b[0m, in \u001b[0;36mcountplot\u001b[1;34m(data, x, y, hue, order, hue_order, orient, color, palette, saturation, width, dodge, ax, **kwargs)\u001b[0m\n\u001b[0;32m   2952\u001b[0m \u001b[38;5;28;01mif\u001b[39;00m ax \u001b[38;5;129;01mis\u001b[39;00m \u001b[38;5;28;01mNone\u001b[39;00m:\n\u001b[0;32m   2953\u001b[0m     ax \u001b[38;5;241m=\u001b[39m plt\u001b[38;5;241m.\u001b[39mgca()\n\u001b[1;32m-> 2955\u001b[0m plotter\u001b[38;5;241m.\u001b[39mplot(ax, kwargs)\n\u001b[0;32m   2956\u001b[0m \u001b[38;5;28;01mreturn\u001b[39;00m ax\n",
      "File \u001b[1;32mc:\\Users\\LEGION\\anaconda3\\ana\\Lib\\site-packages\\seaborn\\categorical.py:1587\u001b[0m, in \u001b[0;36m_BarPlotter.plot\u001b[1;34m(self, ax, bar_kws)\u001b[0m\n\u001b[0;32m   1585\u001b[0m \u001b[38;5;250m\u001b[39m\u001b[38;5;124;03m\"\"\"Make the plot.\"\"\"\u001b[39;00m\n\u001b[0;32m   1586\u001b[0m \u001b[38;5;28mself\u001b[39m\u001b[38;5;241m.\u001b[39mdraw_bars(ax, bar_kws)\n\u001b[1;32m-> 1587\u001b[0m \u001b[38;5;28mself\u001b[39m\u001b[38;5;241m.\u001b[39mannotate_axes(ax)\n\u001b[0;32m   1588\u001b[0m \u001b[38;5;28;01mif\u001b[39;00m \u001b[38;5;28mself\u001b[39m\u001b[38;5;241m.\u001b[39morient \u001b[38;5;241m==\u001b[39m \u001b[38;5;124m\"\u001b[39m\u001b[38;5;124mh\u001b[39m\u001b[38;5;124m\"\u001b[39m:\n\u001b[0;32m   1589\u001b[0m     ax\u001b[38;5;241m.\u001b[39minvert_yaxis()\n",
      "File \u001b[1;32mc:\\Users\\LEGION\\anaconda3\\ana\\Lib\\site-packages\\seaborn\\categorical.py:767\u001b[0m, in \u001b[0;36m_CategoricalPlotter.annotate_axes\u001b[1;34m(self, ax)\u001b[0m\n\u001b[0;32m    764\u001b[0m     ax\u001b[38;5;241m.\u001b[39mset_ylim(\u001b[38;5;241m-\u001b[39m\u001b[38;5;241m.5\u001b[39m, \u001b[38;5;28mlen\u001b[39m(\u001b[38;5;28mself\u001b[39m\u001b[38;5;241m.\u001b[39mplot_data) \u001b[38;5;241m-\u001b[39m \u001b[38;5;241m.5\u001b[39m, auto\u001b[38;5;241m=\u001b[39m\u001b[38;5;28;01mNone\u001b[39;00m)\n\u001b[0;32m    766\u001b[0m \u001b[38;5;28;01mif\u001b[39;00m \u001b[38;5;28mself\u001b[39m\u001b[38;5;241m.\u001b[39mhue_names \u001b[38;5;129;01mis\u001b[39;00m \u001b[38;5;129;01mnot\u001b[39;00m \u001b[38;5;28;01mNone\u001b[39;00m:\n\u001b[1;32m--> 767\u001b[0m     ax\u001b[38;5;241m.\u001b[39mlegend(loc\u001b[38;5;241m=\u001b[39m\u001b[38;5;124m\"\u001b[39m\u001b[38;5;124mbest\u001b[39m\u001b[38;5;124m\"\u001b[39m, title\u001b[38;5;241m=\u001b[39m\u001b[38;5;28mself\u001b[39m\u001b[38;5;241m.\u001b[39mhue_title)\n",
      "File \u001b[1;32mc:\\Users\\LEGION\\anaconda3\\ana\\Lib\\site-packages\\matplotlib\\axes\\_axes.py:322\u001b[0m, in \u001b[0;36mAxes.legend\u001b[1;34m(self, *args, **kwargs)\u001b[0m\n\u001b[0;32m    204\u001b[0m \u001b[38;5;129m@_docstring\u001b[39m\u001b[38;5;241m.\u001b[39mdedent_interpd\n\u001b[0;32m    205\u001b[0m \u001b[38;5;28;01mdef\u001b[39;00m \u001b[38;5;21mlegend\u001b[39m(\u001b[38;5;28mself\u001b[39m, \u001b[38;5;241m*\u001b[39margs, \u001b[38;5;241m*\u001b[39m\u001b[38;5;241m*\u001b[39mkwargs):\n\u001b[0;32m    206\u001b[0m \u001b[38;5;250m    \u001b[39m\u001b[38;5;124;03m\"\"\"\u001b[39;00m\n\u001b[0;32m    207\u001b[0m \u001b[38;5;124;03m    Place a legend on the Axes.\u001b[39;00m\n\u001b[0;32m    208\u001b[0m \n\u001b[1;32m   (...)\u001b[0m\n\u001b[0;32m    320\u001b[0m \u001b[38;5;124;03m    .. plot:: gallery/text_labels_and_annotations/legend.py\u001b[39;00m\n\u001b[0;32m    321\u001b[0m \u001b[38;5;124;03m    \"\"\"\u001b[39;00m\n\u001b[1;32m--> 322\u001b[0m     handles, labels, kwargs \u001b[38;5;241m=\u001b[39m mlegend\u001b[38;5;241m.\u001b[39m_parse_legend_args([\u001b[38;5;28mself\u001b[39m], \u001b[38;5;241m*\u001b[39margs, \u001b[38;5;241m*\u001b[39m\u001b[38;5;241m*\u001b[39mkwargs)\n\u001b[0;32m    323\u001b[0m     \u001b[38;5;28mself\u001b[39m\u001b[38;5;241m.\u001b[39mlegend_ \u001b[38;5;241m=\u001b[39m mlegend\u001b[38;5;241m.\u001b[39mLegend(\u001b[38;5;28mself\u001b[39m, handles, labels, \u001b[38;5;241m*\u001b[39m\u001b[38;5;241m*\u001b[39mkwargs)\n\u001b[0;32m    324\u001b[0m     \u001b[38;5;28mself\u001b[39m\u001b[38;5;241m.\u001b[39mlegend_\u001b[38;5;241m.\u001b[39m_remove_method \u001b[38;5;241m=\u001b[39m \u001b[38;5;28mself\u001b[39m\u001b[38;5;241m.\u001b[39m_remove_legend\n",
      "File \u001b[1;32mc:\\Users\\LEGION\\anaconda3\\ana\\Lib\\site-packages\\matplotlib\\legend.py:1361\u001b[0m, in \u001b[0;36m_parse_legend_args\u001b[1;34m(axs, handles, labels, *args, **kwargs)\u001b[0m\n\u001b[0;32m   1357\u001b[0m     handles \u001b[38;5;241m=\u001b[39m [handle \u001b[38;5;28;01mfor\u001b[39;00m handle, label\n\u001b[0;32m   1358\u001b[0m                \u001b[38;5;129;01min\u001b[39;00m \u001b[38;5;28mzip\u001b[39m(_get_legend_handles(axs, handlers), labels)]\n\u001b[0;32m   1360\u001b[0m \u001b[38;5;28;01melif\u001b[39;00m \u001b[38;5;28mlen\u001b[39m(args) \u001b[38;5;241m==\u001b[39m \u001b[38;5;241m0\u001b[39m:  \u001b[38;5;66;03m# 0 args: automatically detect labels and handles.\u001b[39;00m\n\u001b[1;32m-> 1361\u001b[0m     handles, labels \u001b[38;5;241m=\u001b[39m _get_legend_handles_labels(axs, handlers)\n\u001b[0;32m   1362\u001b[0m     \u001b[38;5;28;01mif\u001b[39;00m \u001b[38;5;129;01mnot\u001b[39;00m handles:\n\u001b[0;32m   1363\u001b[0m         log\u001b[38;5;241m.\u001b[39mwarning(\n\u001b[0;32m   1364\u001b[0m             \u001b[38;5;124m\"\u001b[39m\u001b[38;5;124mNo artists with labels found to put in legend.  Note that \u001b[39m\u001b[38;5;124m\"\u001b[39m\n\u001b[0;32m   1365\u001b[0m             \u001b[38;5;124m\"\u001b[39m\u001b[38;5;124martists whose label start with an underscore are ignored \u001b[39m\u001b[38;5;124m\"\u001b[39m\n\u001b[0;32m   1366\u001b[0m             \u001b[38;5;124m\"\u001b[39m\u001b[38;5;124mwhen legend() is called with no argument.\u001b[39m\u001b[38;5;124m\"\u001b[39m)\n",
      "File \u001b[1;32mc:\\Users\\LEGION\\anaconda3\\ana\\Lib\\site-packages\\matplotlib\\legend.py:1291\u001b[0m, in \u001b[0;36m_get_legend_handles_labels\u001b[1;34m(axs, legend_handler_map)\u001b[0m\n\u001b[0;32m   1289\u001b[0m \u001b[38;5;28;01mfor\u001b[39;00m handle \u001b[38;5;129;01min\u001b[39;00m _get_legend_handles(axs, legend_handler_map):\n\u001b[0;32m   1290\u001b[0m     label \u001b[38;5;241m=\u001b[39m handle\u001b[38;5;241m.\u001b[39mget_label()\n\u001b[1;32m-> 1291\u001b[0m     \u001b[38;5;28;01mif\u001b[39;00m label \u001b[38;5;129;01mand\u001b[39;00m \u001b[38;5;129;01mnot\u001b[39;00m label\u001b[38;5;241m.\u001b[39mstartswith(\u001b[38;5;124m'\u001b[39m\u001b[38;5;124m_\u001b[39m\u001b[38;5;124m'\u001b[39m):\n\u001b[0;32m   1292\u001b[0m         handles\u001b[38;5;241m.\u001b[39mappend(handle)\n\u001b[0;32m   1293\u001b[0m         labels\u001b[38;5;241m.\u001b[39mappend(label)\n",
      "\u001b[1;31mAttributeError\u001b[0m: 'numpy.int64' object has no attribute 'startswith'"
     ]
>>>>>>> fab1cb7cb6bca3f77398c53de3fd50ffe783edd9
    },
    {
     "data": {
      "image/png": "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",
      "text/plain": [
       "<Figure size 640x480 with 1 Axes>"
      ]
     },
     "metadata": {},
     "output_type": "display_data"
    }
   ],
   "source": [
    "sns.countplot(data=df, x=\"RENAL_CHRONIC\", hue=\"DEATH\")"
   ]
  },
  {
   "cell_type": "markdown",
   "metadata": {},
   "source": [
    "## Make data ready for modeling"
   ]
  },
  {
   "cell_type": "code",
<<<<<<< HEAD
   "execution_count": 46,
=======
   "execution_count": 95,
>>>>>>> fab1cb7cb6bca3f77398c53de3fd50ffe783edd9
   "metadata": {},
   "outputs": [
    {
     "data": {
      "text/plain": [
       "DEATH\n",
       "0    947100\n",
       "1     74555\n",
       "Name: count, dtype: int64"
      ]
     },
<<<<<<< HEAD
     "execution_count": 46,
=======
     "execution_count": 95,
>>>>>>> fab1cb7cb6bca3f77398c53de3fd50ffe783edd9
     "metadata": {},
     "output_type": "execute_result"
    }
   ],
   "source": [
    "df['DEATH'].value_counts()"
   ]
  },
  {
   "cell_type": "markdown",
   "metadata": {},
   "source": [
    "- Dữ liệu đang bị mất cân bằng"
   ]
  },
  {
   "cell_type": "code",
<<<<<<< HEAD
   "execution_count": 47,
=======
   "execution_count": 96,
>>>>>>> fab1cb7cb6bca3f77398c53de3fd50ffe783edd9
   "metadata": {},
   "outputs": [],
   "source": [
    "x=df.drop('DEATH',axis=1).values\n",
    "y=df['DEATH'].values"
   ]
  },
  {
   "cell_type": "code",
   "execution_count": 48,
   "metadata": {},
   "outputs": [],
   "source": [
    "from sklearn.model_selection import train_test_split"
   ]
  },
  {
   "cell_type": "code",
<<<<<<< HEAD
   "execution_count": 49,
   "metadata": {},
   "outputs": [],
   "source": [
    "x_train, x_test, y_train, y_test = train_test_split(x, y, test_size=0.2, random_state=0)"
   ]
  },
  {
   "cell_type": "markdown",
   "metadata": {},
   "source": [
    "## Baseline Model"
   ]
  },
  {
   "cell_type": "code",
   "execution_count": 50,
=======
   "execution_count": 97,
>>>>>>> fab1cb7cb6bca3f77398c53de3fd50ffe783edd9
   "metadata": {},
   "outputs": [
    {
     "name": "stdout",
     "output_type": "stream",
     "text": [
      "Train Accuracy: 0.9373332974438534\n",
      "Accuracy: 0.936779049679197\n",
      "Precision: 0.5946517184341114\n",
      "Recall: 0.4320336493523835\n",
      "F1 Score: 0.5004640371229698\n",
      "Confusion Matrix: \n",
      " [[184942   4411]\n",
      " [  8507   6471]]\n",
      "Classification Report: \n",
      "               precision    recall  f1-score   support\n",
      "\n",
      "           0       0.96      0.98      0.97    189353\n",
      "           1       0.59      0.43      0.50     14978\n",
      "\n",
      "    accuracy                           0.94    204331\n",
      "   macro avg       0.78      0.70      0.73    204331\n",
      "weighted avg       0.93      0.94      0.93    204331\n",
      "\n"
     ]
    }
   ],
   "source": [
    "from sklearn.linear_model import LogisticRegression\n",
    "from sklearn.metrics import accuracy_score, recall_score, precision_score, f1_score, confusion_matrix, classification_report\n",
    "lr = LogisticRegression()\n",
    "lr.fit(x_train, y_train)\n",
    "y_pred = lr.predict(x_test)\n",
    "print('Train Accuracy:', lr.score(x_train, y_train))\n",
    "print('Accuracy:', accuracy_score(y_test, y_pred))\n",
    "print('Precision:', precision_score(y_test, y_pred))\n",
    "print('Recall:', recall_score(y_test, y_pred))\n",
    "print('F1 Score:', f1_score(y_test, y_pred))\n",
    "print('Confusion Matrix:', '\\n', confusion_matrix(y_test, y_pred))\n",
    "print('Classification Report:', '\\n', classification_report(y_test, y_pred))"
   ]
  },
  {
   "cell_type": "markdown",
   "metadata": {},
   "source": [
    "## Under sample"
   ]
  },
  {
   "cell_type": "code",
<<<<<<< HEAD
   "execution_count": 70,
=======
   "execution_count": 98,
>>>>>>> fab1cb7cb6bca3f77398c53de3fd50ffe783edd9
   "metadata": {},
   "outputs": [
    {
     "name": "stdout",
     "output_type": "stream",
     "text": [
      "Resampled dataset shape Counter({0: 757746, 1: 378873})\n"
     ]
    }
   ],
   "source": [
    "import numpy as np\n",
    "from collections import Counter\n",
    "from sklearn.datasets import make_classification\n",
    "from imblearn.over_sampling import SMOTE\n",
    "from imblearn.under_sampling import RandomUnderSampler\n",
    "from imblearn.pipeline import Pipeline\n",
    "# Định nghĩa pipeline kết hợp SMOTE và undersampling\n",
    "over = SMOTE(sampling_strategy=0.5)  # Tăng số lượng mẫu lớp thiểu số lên 50% số mẫu của lớp chiếm ưu thế\n",
    "under = RandomUnderSampler(sampling_strategy=0.5)  # Giảm số lượng mẫu lớp chiếm ưu thế xuống gấp đôi lớp thiểu số\n",
    "steps = [('o', over), ('u', under)]\n",
    "pipeline = Pipeline(steps=steps)\n",
    "\n",
    "# Áp dụng SMOTE và undersampling trên tập huấn luyện\n",
    "X_train_res, y_train_res = pipeline.fit_resample(x_train, y_train)\n",
    "\n",
    "# Kiểm tra lại phân phối dữ liệu sau khi xử lý\n",
    "print('Resampled dataset shape %s' % Counter(y_train_res))"
   ]
  },
  {
<<<<<<< HEAD
   "cell_type": "code",
   "execution_count": 71,
   "metadata": {},
   "outputs": [
    {
     "data": {
      "text/plain": [
       "(1136619, 18)"
      ]
     },
     "execution_count": 71,
     "metadata": {},
     "output_type": "execute_result"
    }
   ],
   "source": [
    "X_train_res.shape"
   ]
  },
  {
   "cell_type": "code",
   "execution_count": 72,
   "metadata": {},
   "outputs": [
    {
     "data": {
      "text/plain": [
       "DEATH\n",
       "0    757746\n",
       "1    378873\n",
       "Name: count, dtype: int64"
      ]
     },
     "execution_count": 72,
     "metadata": {},
     "output_type": "execute_result"
    }
   ],
   "source": [
    "y_train_res.value_counts()"
   ]
  },
  {
=======
>>>>>>> fab1cb7cb6bca3f77398c53de3fd50ffe783edd9
   "cell_type": "markdown",
   "metadata": {},
   "source": [
    "## Modeling"
   ]
  },
  {
   "cell_type": "code",
<<<<<<< HEAD
   "execution_count": 73,
=======
   "execution_count": 117,
>>>>>>> fab1cb7cb6bca3f77398c53de3fd50ffe783edd9
   "metadata": {},
   "outputs": [],
   "source": [
    "from sklearn.metrics import confusion_matrix , classification_report, accuracy_score , precision_score , recall_score , f1_score\n",
    "def model_evaluation(model):\n",
<<<<<<< HEAD
    "    model.fit(X_train_res, y_train_res)\n",
    "    y_pred = model.predict(x_test)\n",
    "    print('Train Accuracy:', model.score(X_train_res, y_train_res))\n",
    "    print('Accuracy:', accuracy_score(y_test, y_pred))\n",
=======
    "    model.fit(x_train, y_train)\n",
    "    y_train_pre = model.predict(x_train)\n",
    "    y_pred = model.predict(x_test)\n",
    "    print('Train Accuracy:', accuracy_score(y_train, y_train_pre))\n",
    "    print('Test Accuracy:', accuracy_score(y_test, y_pred))\n",
>>>>>>> fab1cb7cb6bca3f77398c53de3fd50ffe783edd9
    "    print('Precision:', precision_score(y_test, y_pred))\n",
    "    print('Recall:', recall_score(y_test, y_pred))\n",
    "    print('F1 Score:', f1_score(y_test, y_pred))\n",
    "    print('Confusion Matrix:', '\\n', confusion_matrix(y_test, y_pred))\n",
    "    print('Classification Report:', '\\n', classification_report(y_test, y_pred))"
   ]
  },
  {
   "cell_type": "markdown",
   "metadata": {},
   "source": [
    "## Logistic Regression"
   ]
  },
  {
   "cell_type": "code",
<<<<<<< HEAD
   "execution_count": 74,
=======
   "execution_count": 118,
>>>>>>> fab1cb7cb6bca3f77398c53de3fd50ffe783edd9
   "metadata": {},
   "outputs": [],
   "source": [
    "from sklearn.linear_model import LogisticRegression"
   ]
  },
  {
   "cell_type": "code",
<<<<<<< HEAD
   "execution_count": 75,
=======
   "execution_count": 119,
>>>>>>> fab1cb7cb6bca3f77398c53de3fd50ffe783edd9
   "metadata": {},
   "outputs": [
    {
     "name": "stdout",
     "output_type": "stream",
     "text": [
<<<<<<< HEAD
      "Train Accuracy: 0.9006861578066176\n",
      "Accuracy: 0.9046057622191445\n",
      "Precision: 0.42560485200079107\n",
      "Recall: 0.8620643610628922\n",
      "F1 Score: 0.5698649483626091\n",
      "Confusion Matrix: \n",
      " [[171927  17426]\n",
      " [  2066  12912]]\n",
      "Classification Report: \n",
      "               precision    recall  f1-score   support\n",
      "\n",
      "           0       0.99      0.91      0.95    189353\n",
      "           1       0.43      0.86      0.57     14978\n",
      "\n",
      "    accuracy                           0.90    204331\n",
      "   macro avg       0.71      0.89      0.76    204331\n",
      "weighted avg       0.95      0.90      0.92    204331\n",
=======
      "Train Accuracy: 0.9060509020186439\n",
      "Test Accuracy: 0.9078197304003756\n",
      "Precision: 0.8987035096909377\n",
      "Recall: 0.9194747772492798\n",
      "F1 Score: 0.9089704957117786\n",
      "Confusion Matrix: \n",
      " [[13348  1547]\n",
      " [ 1202 13725]]\n",
      "Classification Report: \n",
      "               precision    recall  f1-score   support\n",
      "\n",
      "           0       0.92      0.90      0.91     14895\n",
      "           1       0.90      0.92      0.91     14927\n",
      "\n",
      "    accuracy                           0.91     29822\n",
      "   macro avg       0.91      0.91      0.91     29822\n",
      "weighted avg       0.91      0.91      0.91     29822\n",
>>>>>>> fab1cb7cb6bca3f77398c53de3fd50ffe783edd9
      "\n"
     ]
    }
   ],
   "source": [
    "lr = LogisticRegression()\n",
    "model_evaluation(lr)"
   ]
  },
  {
   "cell_type": "code",
<<<<<<< HEAD
   "execution_count": 76,
=======
   "execution_count": 120,
>>>>>>> fab1cb7cb6bca3f77398c53de3fd50ffe783edd9
   "metadata": {},
   "outputs": [],
   "source": [
    "from sklearn.ensemble import HistGradientBoostingClassifier, AdaBoostClassifier, BaggingClassifier"
   ]
  },
  {
   "cell_type": "markdown",
   "metadata": {},
   "source": [
    " ## HistGradientBoostingClassifier"
   ]
  },
  {
   "cell_type": "code",
<<<<<<< HEAD
   "execution_count": 77,
=======
   "execution_count": 121,
>>>>>>> fab1cb7cb6bca3f77398c53de3fd50ffe783edd9
   "metadata": {},
   "outputs": [
    {
     "name": "stdout",
     "output_type": "stream",
     "text": [
<<<<<<< HEAD
      "Train Accuracy: 0.9626418351268103\n",
      "Accuracy: 0.9203302484693953\n",
      "Precision: 0.4662551226850651\n",
      "Recall: 0.600080117505675\n",
      "F1 Score: 0.5247701065537876\n",
      "Confusion Matrix: \n",
      " [[179064  10289]\n",
      " [  5990   8988]]\n",
      "Classification Report: \n",
      "               precision    recall  f1-score   support\n",
      "\n",
      "           0       0.97      0.95      0.96    189353\n",
      "           1       0.47      0.60      0.52     14978\n",
      "\n",
      "    accuracy                           0.92    204331\n",
      "   macro avg       0.72      0.77      0.74    204331\n",
      "weighted avg       0.93      0.92      0.92    204331\n",
=======
      "Train Accuracy: 0.9174183488699618\n",
      "Test Accuracy: 0.9180806116289987\n",
      "Precision: 0.8899300349825088\n",
      "Recall: 0.9543779728009647\n",
      "F1 Score: 0.9210279618555035\n",
      "Confusion Matrix: \n",
      " [[13133  1762]\n",
      " [  681 14246]]\n",
      "Classification Report: \n",
      "               precision    recall  f1-score   support\n",
      "\n",
      "           0       0.95      0.88      0.91     14895\n",
      "           1       0.89      0.95      0.92     14927\n",
      "\n",
      "    accuracy                           0.92     29822\n",
      "   macro avg       0.92      0.92      0.92     29822\n",
      "weighted avg       0.92      0.92      0.92     29822\n",
>>>>>>> fab1cb7cb6bca3f77398c53de3fd50ffe783edd9
      "\n"
     ]
    }
   ],
   "source": [
    "hgbc = HistGradientBoostingClassifier()\n",
    "model_evaluation(hgbc)"
   ]
  },
  {
   "cell_type": "markdown",
   "metadata": {},
   "source": [
    "## BaggingClassifier"
   ]
  },
  {
   "cell_type": "code",
<<<<<<< HEAD
   "execution_count": 78,
   "metadata": {},
   "outputs": [],
   "source": [
    "nb = GaussianNB()"
   ]
  },
  {
   "cell_type": "code",
   "execution_count": 79,
=======
   "execution_count": 114,
>>>>>>> fab1cb7cb6bca3f77398c53de3fd50ffe783edd9
   "metadata": {},
   "outputs": [
    {
     "name": "stdout",
     "output_type": "stream",
     "text": [
<<<<<<< HEAD
      "Train Accuracy: 0.8821390457136472\n",
      "Accuracy: 0.8699463126006333\n",
      "Precision: 0.34893960710749833\n",
      "Recall: 0.8941781279209507\n",
      "F1 Score: 0.5019865067466268\n",
      "Confusion Matrix: \n",
      " [[164364  24989]\n",
      " [  1585  13393]]\n",
      "Classification Report: \n",
      "               precision    recall  f1-score   support\n",
      "\n",
      "           0       0.99      0.87      0.93    189353\n",
      "           1       0.35      0.89      0.50     14978\n",
      "\n",
      "    accuracy                           0.87    204331\n",
      "   macro avg       0.67      0.88      0.71    204331\n",
      "weighted avg       0.94      0.87      0.89    204331\n",
=======
      "Train Accuracy: 0.957740929515123\n",
      "Accuracy: 0.9007108845818523\n",
      "Precision: 0.885006435006435\n",
      "Recall: 0.9213505727875662\n",
      "F1 Score: 0.9028128795089769\n",
      "Confusion Matrix: \n",
      " [[13108  1787]\n",
      " [ 1174 13753]]\n",
      "Classification Report: \n",
      "               precision    recall  f1-score   support\n",
      "\n",
      "           0       0.92      0.88      0.90     14895\n",
      "           1       0.89      0.92      0.90     14927\n",
      "\n",
      "    accuracy                           0.90     29822\n",
      "   macro avg       0.90      0.90      0.90     29822\n",
      "weighted avg       0.90      0.90      0.90     29822\n",
>>>>>>> fab1cb7cb6bca3f77398c53de3fd50ffe783edd9
      "\n"
     ]
    }
   ],
   "source": [
    "bc = BaggingClassifier(n_estimators=100)\n",
    "model_evaluation(bc) "
   ]
  },
  {
   "cell_type": "markdown",
   "metadata": {},
   "source": [
    "## AdaBoostClassifier"
   ]
  },
  {
   "cell_type": "code",
<<<<<<< HEAD
   "execution_count": 80,
=======
   "execution_count": 115,
>>>>>>> fab1cb7cb6bca3f77398c53de3fd50ffe783edd9
   "metadata": {},
   "outputs": [
    {
     "name": "stdout",
     "output_type": "stream",
     "text": [
<<<<<<< HEAD
      "Train Accuracy: 0.9626400755222286\n",
      "Accuracy: 0.9218082425084789\n",
      "Precision: 0.4748299319727891\n",
      "Recall: 0.6291227133128589\n",
      "F1 Score: 0.5411940384228813\n",
      "Confusion Matrix: \n",
      " [[178931  10422]\n",
      " [  5555   9423]]\n",
      "Classification Report: \n",
      "               precision    recall  f1-score   support\n",
      "\n",
      "           0       0.97      0.94      0.96    189353\n",
      "           1       0.47      0.63      0.54     14978\n",
=======
      "Train Accuracy: 0.9008869291127356\n",
      "Accuracy: 0.902689289786064\n",
      "Precision: 0.9009669889963321\n",
      "Recall: 0.9050713472231526\n",
      "F1 Score: 0.9030145043780496\n",
      "Confusion Matrix: \n",
      " [[13410  1485]\n",
      " [ 1417 13510]]\n",
      "Classification Report: \n",
      "               precision    recall  f1-score   support\n",
      "\n",
      "           0       0.90      0.90      0.90     14895\n",
      "           1       0.90      0.91      0.90     14927\n",
      "\n",
      "    accuracy                           0.90     29822\n",
      "   macro avg       0.90      0.90      0.90     29822\n",
      "weighted avg       0.90      0.90      0.90     29822\n",
      "\n"
     ]
    }
   ],
   "source": [
    "adaboost = AdaBoostClassifier(learning_rate=0.2)\n",
    "model_evaluation(adaboost)"
   ]
  },
  {
   "cell_type": "markdown",
   "metadata": {},
   "source": [
    "## Random forest"
   ]
  },
  {
   "cell_type": "code",
   "execution_count": 116,
   "metadata": {},
   "outputs": [
    {
     "name": "stdout",
     "output_type": "stream",
     "text": [
      "Train Accuracy: 0.9577325464422238\n",
      "Accuracy: 0.9019180470793374\n",
      "Precision: 0.8849262347658755\n",
      "Recall: 0.9242312587927916\n",
      "F1 Score: 0.9041517842514007\n",
      "Confusion Matrix: \n",
      " [[13101  1794]\n",
      " [ 1131 13796]]\n",
      "Classification Report: \n",
      "               precision    recall  f1-score   support\n",
      "\n",
      "           0       0.92      0.88      0.90     14895\n",
      "           1       0.88      0.92      0.90     14927\n",
>>>>>>> fab1cb7cb6bca3f77398c53de3fd50ffe783edd9
      "\n",
      "    accuracy                           0.92    204331\n",
      "   macro avg       0.72      0.79      0.75    204331\n",
      "weighted avg       0.93      0.92      0.93    204331\n",
      "\n"
     ]
    }
   ],
   "source": [
<<<<<<< HEAD
    "from sklearn.ensemble import BaggingClassifier\n",
    "bag_model = BaggingClassifier(base_estimator=DecisionTreeClassifier(), n_estimators=100, oob_score=True, random_state=0)\n",
    "model_evaluation(bag_model)"
   ]
  },
  {
   "cell_type": "markdown",
   "metadata": {},
   "source": [
    "## Random Forest"
   ]
  },
  {
   "cell_type": "code",
   "execution_count": 81,
   "metadata": {},
   "outputs": [],
   "source": [
    "from sklearn.ensemble import RandomForestClassifier"
   ]
  },
  {
   "cell_type": "code",
   "execution_count": 82,
   "metadata": {},
   "outputs": [
    {
     "name": "stdout",
     "output_type": "stream",
     "text": [
      "Train Accuracy: 0.9626365563130653\n",
      "Accuracy: 0.9224493591280813\n",
      "Precision: 0.47787971457696227\n",
      "Recall: 0.6259847776739218\n",
      "F1 Score: 0.5419966472050408\n",
      "Confusion Matrix: \n",
      " [[179109  10244]\n",
      " [  5602   9376]]\n",
      "Classification Report: \n",
      "               precision    recall  f1-score   support\n",
      "\n",
      "           0       0.97      0.95      0.96    189353\n",
      "           1       0.48      0.63      0.54     14978\n",
      "\n",
      "    accuracy                           0.92    204331\n",
      "   macro avg       0.72      0.79      0.75    204331\n",
      "weighted avg       0.93      0.92      0.93    204331\n",
      "\n"
     ]
    }
   ],
   "source": [
    "rf = RandomForestClassifier()\n",
    "model_evaluation(rf)"
   ]
  },
  {
   "cell_type": "markdown",
   "metadata": {},
   "source": [
    "## XGBoost"
   ]
  },
  {
   "cell_type": "code",
   "execution_count": 83,
   "metadata": {},
   "outputs": [],
   "source": [
    "from xgboost import XGBClassifier"
   ]
  },
  {
   "cell_type": "code",
   "execution_count": 84,
   "metadata": {},
   "outputs": [
    {
     "name": "stdout",
     "output_type": "stream",
     "text": [
      "Train Accuracy: 0.936753652719161\n",
      "Accuracy: 0.9220578375283242\n",
      "Precision: 0.48017068273092367\n",
      "Recall: 0.7663239417812792\n",
      "F1 Score: 0.590401728306157\n",
      "Confusion Matrix: \n",
      " [[176927  12426]\n",
      " [  3500  11478]]\n",
      "Classification Report: \n",
      "               precision    recall  f1-score   support\n",
      "\n",
      "           0       0.98      0.93      0.96    189353\n",
      "           1       0.48      0.77      0.59     14978\n",
      "\n",
      "    accuracy                           0.92    204331\n",
      "   macro avg       0.73      0.85      0.77    204331\n",
      "weighted avg       0.94      0.92      0.93    204331\n",
      "\n"
     ]
    }
   ],
   "source": [
    "xgb = XGBClassifier()\n",
    "model_evaluation(xgb)"
   ]
  },
  {
   "cell_type": "markdown",
   "metadata": {},
   "source": [
    "## Gradient Boosting"
   ]
  },
  {
   "cell_type": "code",
   "execution_count": 85,
   "metadata": {},
   "outputs": [],
   "source": [
    "from sklearn.ensemble import GradientBoostingClassifier"
   ]
  },
  {
   "cell_type": "code",
   "execution_count": 86,
   "metadata": {},
   "outputs": [
    {
     "name": "stdout",
     "output_type": "stream",
     "text": [
      "Train Accuracy: 0.9259118490892727\n",
      "Accuracy: 0.9125732267742046\n",
      "Precision: 0.44899618266647817\n",
      "Recall: 0.8481105621578315\n",
      "F1 Score: 0.587150450658655\n",
      "Confusion Matrix: \n",
      " [[173764  15589]\n",
      " [  2275  12703]]\n",
      "Classification Report: \n",
      "               precision    recall  f1-score   support\n",
      "\n",
      "           0       0.99      0.92      0.95    189353\n",
      "           1       0.45      0.85      0.59     14978\n",
      "\n",
      "    accuracy                           0.91    204331\n",
      "   macro avg       0.72      0.88      0.77    204331\n",
      "weighted avg       0.95      0.91      0.92    204331\n",
      "\n"
     ]
    }
   ],
   "source": [
    "gb = GradientBoostingClassifier()\n",
    "model_evaluation(gb)                                                                        "
   ]
  },
  {
   "cell_type": "markdown",
   "metadata": {},
   "source": [
    "## Ada Boost"
   ]
  },
  {
   "cell_type": "code",
   "execution_count": 87,
   "metadata": {},
   "outputs": [],
   "source": [
    "from sklearn.ensemble import AdaBoostClassifier"
   ]
  },
  {
   "cell_type": "code",
   "execution_count": 88,
   "metadata": {},
   "outputs": [
    {
     "name": "stdout",
     "output_type": "stream",
     "text": [
      "Train Accuracy: 0.9131467976516318\n",
      "Accuracy: 0.9134198922336797\n",
      "Precision: 0.4497797193735885\n",
      "Recall: 0.8111229803712111\n",
      "F1 Score: 0.5786753673581175\n",
      "Confusion Matrix: \n",
      " [[174491  14862]\n",
      " [  2829  12149]]\n",
      "Classification Report: \n",
      "               precision    recall  f1-score   support\n",
      "\n",
      "           0       0.98      0.92      0.95    189353\n",
      "           1       0.45      0.81      0.58     14978\n",
      "\n",
      "    accuracy                           0.91    204331\n",
      "   macro avg       0.72      0.87      0.77    204331\n",
      "weighted avg       0.94      0.91      0.92    204331\n",
      "\n"
     ]
    }
   ],
   "source": [
    "ab = AdaBoostClassifier()\n",
    "model_evaluation(ab)"
   ]
=======
    "from sklearn.ensemble import RandomForestClassifier\n",
    "\n",
    "rf = RandomForestClassifier(n_estimators=100)\n",
    "model_evaluation(rf)"
   ]
>>>>>>> fab1cb7cb6bca3f77398c53de3fd50ffe783edd9
  }
 ],
 "metadata": {
  "kernelspec": {
   "display_name": "Python 3",
   "language": "python",
   "name": "python3"
  },
  "language_info": {
   "codemirror_mode": {
    "name": "ipython",
    "version": 3
   },
   "file_extension": ".py",
   "mimetype": "text/x-python",
   "name": "python",
   "nbconvert_exporter": "python",
   "pygments_lexer": "ipython3",
   "version": "3.11.7"
  }
 },
 "nbformat": 4,
 "nbformat_minor": 2
}
